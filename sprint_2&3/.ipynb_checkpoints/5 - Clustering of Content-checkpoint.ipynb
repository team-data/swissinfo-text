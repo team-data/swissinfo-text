{
 "cells": [
  {
   "cell_type": "markdown",
   "metadata": {},
   "source": [
    "# Clustering content for Swissinfo\n",
    "- Clustering\n",
    "    - Once we have a similarity of articles on a textual level we can cluster the content on the homepage based not on rubriken or tags but the actual similarity. "
   ]
  },
  {
   "cell_type": "markdown",
   "metadata": {},
   "source": [
    "# Get articles from front page"
   ]
  },
  {
   "cell_type": "code",
   "execution_count": 1,
   "metadata": {},
   "outputs": [],
   "source": [
    "import requests\n",
    "from bs4 import BeautifulSoup"
   ]
  },
  {
   "cell_type": "code",
   "execution_count": 2,
   "metadata": {},
   "outputs": [
    {
     "name": "stdout",
     "output_type": "stream",
     "text": [
      "Done: /webservice/swi-eng-2.0/detail/42579872/44657906\n",
      "Done: /webservice/swi-eng-2.0/detail/42579872/44658116\n",
      "Done: /webservice/swi-eng-2.0/detail/42579872/44661252\n",
      "Done: /webservice/swi-eng-2.0/detail/42579872/44660092\n",
      "Done: /webservice/swi-eng-2.0/detail/42579872/44658522\n",
      "Done: /webservice/swi-eng-2.0/gallery/42579876/44653048\n",
      "Done: /webservice/swi-eng-2.0/detail/42579872/44644510\n",
      "Done: /webservice/swi-eng-2.0/detail/42579872/44626312\n",
      "Done: /webservice/swi-eng-2.0/detail/42579872/44651842\n",
      "Done: /webservice/swi-eng-2.0/detail/42579872/44655446\n",
      "Done: /webservice/swi-eng-2.0/video/42579874/44651062\n",
      "Done: /webservice/swi-eng-2.0/detail/42579872/44650972\n",
      "Done: /webservice/swi-eng-2.0/detail/42579872/44646694\n",
      "Done: /webservice/swi-eng-2.0/detail/42579872/44616420\n",
      "Done: /webservice/swi-eng-2.0/detail/42579872/44631792\n",
      "Done: /webservice/swi-eng-2.0/detail/42579872/44509210\n",
      "Done: /webservice/swi-eng-2.0/detail/42579872/44650420\n",
      "Done: /webservice/swi-eng-2.0/detail/42579872/44560786\n",
      "Done: /webservice/swi-eng-2.0/detail/42579872/44635858\n",
      "Done: /webservice/swi-eng-2.0/gallery/42579876/44632872\n",
      "Done: /webservice/swi-eng-2.0/detail/42579872/44629412\n",
      "Done: /webservice/swi-eng-2.0/gallery/42579876/44634860\n",
      "Done: /webservice/swi-eng-2.0/video/42579874/44634692\n",
      "Done: /webservice/swi-eng-2.0/video/42579874/44624134\n",
      "Done: /webservice/swi-eng-2.0/detail/42579872/44610692\n",
      "Done: /webservice/swi-eng-2.0/gallery/42579876/44625884\n",
      "Done: /webservice/swi-eng-2.0/detail/42579872/44590208\n",
      "Done: /webservice/swi-eng-2.0/detail/42579872/44632744\n",
      "Done: /webservice/swi-eng-2.0/gallery/42579876/44630156\n",
      "Done: /webservice/swi-eng-2.0/audio/42579870/44612522\n",
      "Done: /webservice/swi-eng-2.0/detail/42579872/44635712\n",
      "Done: /webservice/swi-eng-2.0/detail/42579872/44634738\n",
      "Done: /webservice/swi-eng-2.0/gallery/42579876/44626660\n",
      "Done: /webservice/swi-eng-2.0/video/42579874/44628938\n",
      "Done: /webservice/swi-eng-2.0/detail/42579872/44629972\n",
      "Done: /webservice/swi-eng-2.0/detail/42579872/44632870\n",
      "Done: /webservice/swi-eng-2.0/detail/42579872/44625744\n",
      "Done: /webservice/swi-eng-2.0/detail/42579872/44607830\n",
      "Done: /webservice/swi-eng-2.0/video/42579874/44612428\n",
      "Done: /webservice/swi-eng-2.0/detail/42579872/44627838\n",
      "Done: /webservice/swi-eng-2.0/detail/42579872/44625394\n",
      "Done: /webservice/swi-eng-2.0/detail/42579872/44610124\n",
      "Done: /webservice/swi-eng-2.0/detail/42579872/44625660\n",
      "Done: /webservice/swi-eng-2.0/detail/42579872/44623632\n",
      "Done: /webservice/swi-eng-2.0/detail/42579872/44560650\n",
      "Done: /webservice/swi-eng-2.0/detail/42579872/44623996\n",
      "Done: /webservice/swi-eng-2.0/detail/42579872/44623032\n",
      "Done: /webservice/swi-eng-2.0/detail/42579872/44618048\n",
      "Done: /webservice/swi-eng-2.0/detail/42579872/44618150\n",
      "Done: /webservice/swi-eng-2.0/gallery/42579876/44619378\n",
      "Done: /webservice/swi-eng-2.0/detail/42579872/44616080\n",
      "Done: /webservice/swi-eng-2.0/detail/42579872/44617654\n",
      "Done: /webservice/swi-eng-2.0/detail/42579872/44617816\n",
      "Done: /webservice/swi-eng-2.0/detail/42579872/44615866\n",
      "Done: /webservice/swi-eng-2.0/detail/42579872/44615656\n",
      "Done: /webservice/swi-eng-2.0/detail/42579872/44613728\n",
      "Done: /webservice/swi-eng-2.0/detail/42579872/44616450\n",
      "Done: /webservice/swi-eng-2.0/detail/42579872/44612456\n",
      "Done: /webservice/swi-eng-2.0/detail/42579872/44613232\n",
      "Done: /webservice/swi-eng-2.0/detail/42579872/44574850\n",
      "Done: /webservice/swi-eng-2.0/detail/42579872/44609546\n",
      "Done: /webservice/swi-eng-2.0/detail/42579872/44609428\n",
      "Done: /webservice/swi-eng-2.0/video/42579874/44593580\n",
      "Done: /webservice/swi-eng-2.0/detail/42579872/44608456\n",
      "Done: /webservice/swi-eng-2.0/detail/42579872/44572400\n",
      "Done: /webservice/swi-eng-2.0/gallery/42579876/44607960\n",
      "Done: /webservice/swi-eng-2.0/detail/42579872/44607262\n",
      "Done: /webservice/swi-eng-2.0/video/42579874/44607858\n",
      "Done: /webservice/swi-eng-2.0/detail/42579872/44595620\n",
      "Done: /webservice/swi-eng-2.0/gallery/42579876/44592598\n",
      "Done: /webservice/swi-eng-2.0/detail/42579872/44602420\n",
      "Done: /webservice/swi-eng-2.0/video/42579874/44577612\n",
      "Done: /webservice/swi-eng-2.0/detail/42579872/44601990\n",
      "Done: /webservice/swi-eng-2.0/detail/42579872/44603100\n",
      "Done: /webservice/swi-eng-2.0/detail/42579872/44600416\n",
      "Done: /webservice/swi-eng-2.0/video/42579874/44599364\n",
      "Done: /webservice/swi-eng-2.0/detail/42579872/44601712\n",
      "Done: /webservice/swi-eng-2.0/detail/42579872/44597062\n",
      "Done: /webservice/swi-eng-2.0/video/42579874/44572920\n",
      "Done: /webservice/swi-eng-2.0/detail/42579872/44591246\n",
      "Done: /webservice/swi-eng-2.0/detail/42579872/44599910\n",
      "Done: /webservice/swi-eng-2.0/detail/42579872/44596456\n",
      "Done: /webservice/swi-eng-2.0/detail/42579872/44598416\n",
      "Done: /webservice/swi-eng-2.0/detail/42579872/44594062\n",
      "Done: /webservice/swi-eng-2.0/detail/42579872/44595810\n",
      "Done: /webservice/swi-eng-2.0/detail/42579872/44590274\n",
      "Done: /webservice/swi-eng-2.0/detail/42579872/44592984\n",
      "Done: /webservice/swi-eng-2.0/detail/42579872/44580432\n",
      "Done: /webservice/swi-eng-2.0/detail/42579872/44585848\n",
      "Done: /webservice/swi-eng-2.0/detail/42579872/44591156\n",
      "Done: /webservice/swi-eng-2.0/video/42579874/44580876\n",
      "Done: /webservice/swi-eng-2.0/detail/42579872/44574988\n",
      "Done: /webservice/swi-eng-2.0/detail/42579872/44581536\n",
      "Done: /webservice/swi-eng-2.0/detail/42579872/44584728\n"
     ]
    }
   ],
   "source": [
    "# Get 100 Frontpage Items\n",
    "frontpage_url = \"https://www.swissinfo.ch/webservice/swi-eng-2.0/overview\"\n",
    "r = requests.get(frontpage_url).json()\n",
    "items = []\n",
    "urls = []\n",
    "for item in r[\"page\"][\"item\"][0][\"content\"]:\n",
    "    try:\n",
    "        tmp = requests.get(\"https://www.swissinfo.ch/webservice/swi-eng-2.0/detail%s\" % item[\"url\"])\n",
    "        text = BeautifulSoup(tmp.json()[\"htmldetail\"], \"lxml\").get_text()\n",
    "        items.append(text)\n",
    "        urls.append(item[\"canonical\"])\n",
    "        print(\"Done: %s\" % item[\"url\"])\n",
    "    except:\n",
    "        pass"
   ]
  },
  {
   "cell_type": "code",
   "execution_count": 3,
   "metadata": {},
   "outputs": [
    {
     "data": {
      "text/plain": [
       "u'    EU relations, dodgy gold and lenient prison sentences - SWI swissinfo.ch             (Keystone)       Here are some of the stories we\\u2019ll bring you\\xa0the week of January 7:Monday2018 was a tough year for relations between Switzerland and the European Union. After the decision on the institutional f'"
      ]
     },
     "execution_count": 3,
     "metadata": {},
     "output_type": "execute_result"
    }
   ],
   "source": [
    "items[1][0:300]"
   ]
  },
  {
   "cell_type": "code",
   "execution_count": 4,
   "metadata": {},
   "outputs": [
    {
     "data": {
      "text/plain": [
       "u'https://www.swissinfo.ch/eng/society/the-week-ahead_eu-relations--dodgy-gold-and-lenient-prison-sentences/44658116'"
      ]
     },
     "execution_count": 4,
     "metadata": {},
     "output_type": "execute_result"
    }
   ],
   "source": [
    "urls[1]"
   ]
  },
  {
   "cell_type": "markdown",
   "metadata": {},
   "source": [
    "# Lets cluster the Data\n",
    "- Work tokenization\n",
    "- Stemming\n",
    "- Stopword removal\n",
    "- Clustering with k-means"
   ]
  },
  {
   "cell_type": "code",
   "execution_count": 5,
   "metadata": {},
   "outputs": [],
   "source": [
    "import collections\n",
    "from nltk import word_tokenize\n",
    "from nltk.corpus import stopwords\n",
    "from nltk.stem import PorterStemmer\n",
    "from sklearn.cluster import KMeans\n",
    "from sklearn.feature_extraction.text import TfidfVectorizer\n",
    "from pprint import pprint\n",
    "import seaborn as sns\n",
    "\n",
    "def word_tokenizer(text):\n",
    "        #tokenizes and stems the text\n",
    "        tokens = word_tokenize(text)\n",
    "        stemmer = PorterStemmer()\n",
    "        tokens = [stemmer.stem(t) for t in tokens if t not in stopwords.words('english')]\n",
    "        return tokens\n",
    "\n",
    "\n",
    "def cluster_items(items, nb_of_clusters=5,mds=False):\n",
    "        tfidf_vectorizer = TfidfVectorizer(tokenizer=word_tokenizer,\n",
    "                                        stop_words=stopwords.words('english'),\n",
    "                                        lowercase=True)\n",
    "        #builds a tf-idf matrix for the sentences\n",
    "        tfidf_matrix = tfidf_vectorizer.fit_transform(items)\n",
    "        \n",
    "        # Show matrix\n",
    "        pairwise_similarity = tfidf_matrix * tfidf_matrix.T\n",
    "        ax = sns.heatmap(pairwise_similarity.A)\n",
    "        ax.plot()\n",
    "        \n",
    "        # Clustering\n",
    "        kmeans = KMeans(n_clusters=nb_of_clusters)\n",
    "        kmeans.fit(tfidf_matrix)\n",
    "        clusters = collections.defaultdict(list)\n",
    "        for i, label in enumerate(kmeans.labels_):\n",
    "                clusters[label].append(i)\n",
    "        if mds:\n",
    "            return [pairwise_similarity,dict(clusters)]\n",
    "        else:\n",
    "            return dict(clusters)\n",
    "\n",
    "\n",
    "#items = [\"Nature is beautiful\",\"I like green apples\", \"We should protect the trees\",\"Fruit trees provide fruits\",\"Green apples are tasty\"]\n",
    "\n",
    "#nclusters= 3\n",
    "#parwise_similarity, clusters = cluster_items(items, nclusters,True)"
   ]
  },
  {
   "cell_type": "markdown",
   "metadata": {},
   "source": [
    "# Baby example: Lets see how it works"
   ]
  },
  {
   "cell_type": "markdown",
   "metadata": {},
   "source": [
    "How does the result look for:\n",
    "- 2 sentences with nature\n",
    "- 2 sentences with apple\n",
    "- 1 sentence with apple and nature\n",
    "- 1 sentence with computers"
   ]
  },
  {
   "cell_type": "code",
   "execution_count": 6,
   "metadata": {},
   "outputs": [
    {
     "data": {
      "image/png": "[encoded data removed]",
      "text/plain": [
       "<Figure size 432x288 with 2 Axes>"
      ]
     },
     "metadata": {},
     "output_type": "display_data"
    }
   ],
   "source": [
    "nclusters = 3\n",
    "baby_items = [\"Nature is beautiful\",\n",
    "              \"We should protect nature\",\n",
    "              \"I like green apples\", \n",
    "              \"Green apples are tasty\",\n",
    "              \"Apples and nature are fun.\",\n",
    "              \"Technical sentence with computers.\"]\n",
    "result,clusters = cluster_items(baby_items,nclusters,True)"
   ]
  },
  {
   "cell_type": "code",
   "execution_count": 7,
   "metadata": {},
   "outputs": [
    {
     "data": {
      "text/plain": [
       "{0: [2, 3], 1: [4, 5], 2: [0, 1]}"
      ]
     },
     "execution_count": 7,
     "metadata": {},
     "output_type": "execute_result"
    }
   ],
   "source": [
    "clusters"
   ]
  },
  {
   "cell_type": "code",
   "execution_count": 8,
   "metadata": {},
   "outputs": [
    {
     "name": "stdout",
     "output_type": "stream",
     "text": [
      "cluster  0 :\n",
      "\titem  0 :  I like green apples\n",
      "\titem  1 :  Green apples are tasty\n",
      "cluster  1 :\n",
      "\titem  0 :  Apples and nature are fun.\n",
      "\titem  1 :  Technical sentence with computers.\n",
      "cluster  2 :\n",
      "\titem  0 :  Nature is beautiful\n",
      "\titem  1 :  We should protect nature\n"
     ]
    }
   ],
   "source": [
    "for cluster in range(nclusters):\n",
    "        print \"cluster \",cluster,\":\"\n",
    "        for i,item in enumerate(clusters[cluster]):\n",
    "                print \"\\titem \",i,\": \",baby_items[item]"
   ]
  },
  {
   "cell_type": "markdown",
   "metadata": {},
   "source": [
    "## Compute Clusters for Frontpage"
   ]
  },
  {
   "cell_type": "code",
   "execution_count": 9,
   "metadata": {},
   "outputs": [
    {
     "name": "stdout",
     "output_type": "stream",
     "text": [
      "cluster  0 :\n",
      "\turl  society :  -weareswissabroad---eva-hefti_-no-worries--for-swiss-family-in-new-zealand\n",
      "\turl  society :  the-week-ahead_eu-relations--dodgy-gold-and-lenient-prison-sentences\n",
      "\turl  business :  arrests-fall-out_credit-suisse-escapes-harsh-criticism-on--tuna-bond--affair\n",
      "\turl  eng :  obituary_swiss-photo-legend-jean-revillard-dies-suddenly\n",
      "\turl  society :  week-in-numbers_red-noses--train-tourists-and-the-fish-of-the-year\n",
      "\turl  multimedia :  ski-season_the-piste-basher-s-long-night\n",
      "\turl  politics :  who-foots-the-bill-_cameroon-s-biya--why-the-swiss-won-t-stop-his-geneva-stays\n",
      "\turl  directdemocracy :  five-proposals_zurich-wants-to-ease-political-participation-for-non-swiss\n",
      "\turl  politics :  outlook-2019_elections--economic-headaches--and-isolationism--switzerland-in-2019\n",
      "\turl  business :  lindt---sprungli_lindt--chocs-away\n",
      "\turl  multimedia :  shimmering-attractions_enchanting-tourists-with-lights\n",
      "\turl  politics :  outlook-2019_hot-potatoes-and-long-running-sores--swiss-politics-in-2019\n",
      "\turl  politics :  first-among-equals_ueli-maurer---an-old--new-swiss-president\n",
      "\turl  politics :  in-laws_are-you-legally-up-to-date-for-2019-\n",
      "\turl  politics :  swiss-government_how-your-life-changes-when-you-become-a-swiss-cabinet-minister\n",
      "\turl  culture :  work-quirks_stringing-together--pearls-from-the-archives-\n",
      "\turl  business :  what-spells-disaster-_swiss-re-chief-fears-for-catastrophe-bond-investors\n",
      "\turl  sci-tech :  swiss-cinema_how-to-tell-a-science-story-through-film\n",
      "\turl  society :  hits-of-the-year_guns--drones-and-salaries--the-most-read-articles-of-2018\n",
      "\turl  multimedia :  alain-berset_through-the-swiss-president-s-eyes\n",
      "\turl  business :  challenger-banks_how-your-personal-banking-can-be-tailored-to-fit-your-lifestyle-\n",
      "\turl  multimedia :  a-laughing-matter_2018-as-seen-by-swiss-cartoonists\n",
      "\turl  multimedia :  the-sounds-of---_train-spotting-and-people-watching-at-five-major-stations\n",
      "\turl  multimedia :  bold-bertle_the-great-swiss-climbing-tour--bolting-your-way-up\n",
      "\turl  society :  year-in-numbers_2018-in-figures---from-federer-to-a-flaming-snowman\n",
      "\turl  multimedia :  year-in-review-2018_energy-highs-and-lows\n",
      "\turl  eng :  barry-christmas_the-swiss-dog-that-conquers-hearts\n",
      "\turl  society :  chapeau--monsieur-chevrolet_a-nod-to-switzerland-in-an-american-icon\n",
      "\turl  multimedia :  schweizer-tafel_waste-not--want-not-is-motto-of-swiss-food-charity\n",
      "\turl  multimedia :  podcast_-the-police-closed-us-down-within-an-hour--\n",
      "\turl  politics :  multilateralism_un-migration-pact--a-hard-landing-for--soft-law-\n",
      "\turl  society :  week-in-numbers_brexit--trump-and-e-voting\n",
      "\turl  multimedia :  swiss-post-_a-christmas-clinic-where-the-patients-are-parcels\n",
      "\turl  multimedia :  democracy-lab_citizens--juries---providing-a-neutral-recommendation-on-voting-issues-\n",
      "\turl  politics :  vote-february-10--2019_green-initiative-gets-early-support--but-not-enough-to-win-vote\n",
      "\turl  politics :  -mind-the-gap-_swiss-british-treaty-extends-worker-residency-rights-post-brexit\n",
      "\turl  politics :  us-ambassador-on-free-trade_-swiss-farmers-could-make-a-lot-more-money-selling-to-the-us-\n",
      "\turl  business :  security-tokens_global-stock-exchanges-gear-up-for-anticipated-cryptoasset-bonanza\n",
      "\turl  multimedia :  seven-wonders-of-switzerland_where-the-swiss-emperors-lived\n",
      "\turl  business :  world-economic-forum_trump-to-attend-2019-wef-meeting-in-davos\n",
      "\turl  society :  solar-power_solartaxi-driver-still-pushing-for-renewables\n",
      "\turl  business :  future-leaders_multinationals-must-step-up-game-to-attract-top-business-students\n",
      "\turl  politics :  people-power_direct-democracy-vs--france-s-street-protesters\n",
      "\turl  society :  living-underground_study-examines-health-of-geneva-s-undocumented-migrants\n",
      "\turl  sci-tech :  publish-or-perish_how-scientists-are-redefining-success\n",
      "\turl  politics :  opinion_cop24--text-adopted--ambitions-abandoned\n",
      "\turl  business :  reinsurance-model_novartis-weighs-reinsurance-tie-up-to-fund-ultra-expensive-drugs\n",
      "\turl  society :  -weareswissabroad---fran%C3%A7ois-schwalb_-being-swiss-is-an-essential-part-of-my-identity-\n",
      "\turl  society :  week-in-numbers_transport--terrorism--and-dual-nationals\n",
      "\turl  multimedia :  photography_switzerland-after-sundown\n",
      "\turl  politics :  un-migration-pact_where-swiss-development-aid-meets-migration\n",
      "\turl  business :  dlt-report_switzerland-sets-legal-foundations-for-blockchain-industry\n",
      "\turl  society :  new-drugs_do-we-need-clinics-for-internet-and-sex-addicts-\n",
      "\turl  eng :  international-law_tale-of-swiss-based-syrian-torture-survivor-highlights-dublin-flaws\n",
      "\turl  business :  underrepresented-women_men-appointed-to-boards-because-it-s--easier-\n",
      "\turl  business :  inside-geneva_what-now-for-syria-\n",
      "\turl  society :  ten-a-side_ok-google--what-the-swiss-search-for\n",
      "\turl  society :  corruption_venezuelan-ex-minister-hoarded-money-in-switzerland\n",
      "cluster  1 :\n",
      "\turl  society :  -weareswissabroad---eva-hefti_-no-worries--for-swiss-family-in-new-zealand\n",
      "\turl  society :  the-week-ahead_eu-relations--dodgy-gold-and-lenient-prison-sentences\n",
      "\turl  business :  arrests-fall-out_credit-suisse-escapes-harsh-criticism-on--tuna-bond--affair\n",
      "\turl  eng :  obituary_swiss-photo-legend-jean-revillard-dies-suddenly\n",
      "\turl  society :  week-in-numbers_red-noses--train-tourists-and-the-fish-of-the-year\n",
      "\turl  multimedia :  ski-season_the-piste-basher-s-long-night\n",
      "\turl  politics :  who-foots-the-bill-_cameroon-s-biya--why-the-swiss-won-t-stop-his-geneva-stays\n",
      "\turl  directdemocracy :  five-proposals_zurich-wants-to-ease-political-participation-for-non-swiss\n",
      "\turl  politics :  outlook-2019_elections--economic-headaches--and-isolationism--switzerland-in-2019\n",
      "\turl  business :  lindt---sprungli_lindt--chocs-away\n",
      "\turl  multimedia :  shimmering-attractions_enchanting-tourists-with-lights\n",
      "\turl  politics :  outlook-2019_hot-potatoes-and-long-running-sores--swiss-politics-in-2019\n",
      "\turl  politics :  first-among-equals_ueli-maurer---an-old--new-swiss-president\n",
      "\turl  politics :  in-laws_are-you-legally-up-to-date-for-2019-\n",
      "\turl  politics :  swiss-government_how-your-life-changes-when-you-become-a-swiss-cabinet-minister\n",
      "\turl  culture :  work-quirks_stringing-together--pearls-from-the-archives-\n",
      "\turl  business :  what-spells-disaster-_swiss-re-chief-fears-for-catastrophe-bond-investors\n",
      "\turl  sci-tech :  swiss-cinema_how-to-tell-a-science-story-through-film\n",
      "\turl  society :  hits-of-the-year_guns--drones-and-salaries--the-most-read-articles-of-2018\n",
      "\turl  multimedia :  alain-berset_through-the-swiss-president-s-eyes\n",
      "\turl  business :  challenger-banks_how-your-personal-banking-can-be-tailored-to-fit-your-lifestyle-\n",
      "\turl  multimedia :  a-laughing-matter_2018-as-seen-by-swiss-cartoonists\n",
      "\turl  multimedia :  the-sounds-of---_train-spotting-and-people-watching-at-five-major-stations\n",
      "\turl  multimedia :  bold-bertle_the-great-swiss-climbing-tour--bolting-your-way-up\n",
      "\turl  society :  year-in-numbers_2018-in-figures---from-federer-to-a-flaming-snowman\n",
      "\turl  multimedia :  year-in-review-2018_energy-highs-and-lows\n",
      "\turl  eng :  barry-christmas_the-swiss-dog-that-conquers-hearts\n",
      "\turl  society :  chapeau--monsieur-chevrolet_a-nod-to-switzerland-in-an-american-icon\n",
      "\turl  multimedia :  schweizer-tafel_waste-not--want-not-is-motto-of-swiss-food-charity\n",
      "\turl  multimedia :  podcast_-the-police-closed-us-down-within-an-hour--\n",
      "cluster  2 :\n",
      "\turl  society :  -weareswissabroad---eva-hefti_-no-worries--for-swiss-family-in-new-zealand\n",
      "\turl  society :  the-week-ahead_eu-relations--dodgy-gold-and-lenient-prison-sentences\n",
      "\turl  business :  arrests-fall-out_credit-suisse-escapes-harsh-criticism-on--tuna-bond--affair\n",
      "\turl  eng :  obituary_swiss-photo-legend-jean-revillard-dies-suddenly\n",
      "\turl  society :  week-in-numbers_red-noses--train-tourists-and-the-fish-of-the-year\n",
      "\turl  multimedia :  ski-season_the-piste-basher-s-long-night\n"
     ]
    },
    {
     "data": {
      "image/png": "[encoded data removed]",
      "text/plain": [
       "<Figure size 432x288 with 2 Axes>"
      ]
     },
     "metadata": {},
     "output_type": "display_data"
    }
   ],
   "source": [
    "result,clusters = cluster_items(items,nclusters,True)\n",
    "for cluster in range(nclusters):\n",
    "        print \"cluster \",cluster,\":\"\n",
    "        for i,item in enumerate(clusters[cluster]):\n",
    "                print \"\\turl \",urls[i].split(\"/\")[-3],\": \",urls[i].split(\"/\")[-2]"
   ]
  },
  {
   "cell_type": "markdown",
   "metadata": {},
   "source": [
    "# Whats next?"
   ]
  },
  {
   "cell_type": "markdown",
   "metadata": {},
   "source": [
    "- What can we do with the cluster approach?\n",
    "    - Cluster homepage differntly ?\n",
    "    - Share results with redakteure?\n",
    "    - Offer a different clustering for the reader?\n",
    "    - Offer an alternative structure?\n",
    "    - Alles eher so meh...\n",
    "- Open questions:\n",
    "    - How many clusters remains more art then science...\n",
    "    - Ellenbogen kriterium"
   ]
  },
  {
   "cell_type": "markdown",
   "metadata": {},
   "source": [
    "# Als Netzwerk Exportieren und Visualisieren"
   ]
  },
  {
   "cell_type": "code",
   "execution_count": 12,
   "metadata": {},
   "outputs": [
    {
     "data": {
      "text/plain": [
       "matrix([[1.        , 0.40034667, 0.23471687, ..., 0.3998068 , 0.33693778,\n",
       "         0.34896374],\n",
       "        [0.40034667, 1.        , 0.25136975, ..., 0.32112286, 0.35008504,\n",
       "         0.46500317],\n",
       "        [0.23471687, 0.25136975, 1.        , ..., 0.22014318, 0.27138366,\n",
       "         0.26179897],\n",
       "        ...,\n",
       "        [0.3998068 , 0.32112286, 0.22014318, ..., 1.        , 0.30281272,\n",
       "         0.32036362],\n",
       "        [0.33693778, 0.35008504, 0.27138366, ..., 0.30281272, 1.        ,\n",
       "         0.34368108],\n",
       "        [0.34896374, 0.46500317, 0.26179897, ..., 0.32036362, 0.34368108,\n",
       "         1.        ]])"
      ]
     },
     "execution_count": 12,
     "metadata": {},
     "output_type": "execute_result"
    }
   ],
   "source": [
    "result.todense()"
   ]
  },
  {
   "cell_type": "code",
   "execution_count": 13,
   "metadata": {},
   "outputs": [],
   "source": [
    "import networkx as nx\n",
    "G  = nx.Graph(name=\"Texts\")\n",
    "\n",
    "for url in urls:\n",
    "    url_clean = url.split(\"/\")[-2]\n",
    "    G.add_node(url, size=1, label=url)\n",
    "\n",
    "entries = result.todense().tolist()\n",
    "\n",
    "for i,row in enumerate(urls):\n",
    "    row = row.split(\"/\")[-2]\n",
    "    for j,col in enumerate(urls):\n",
    "        col = col.split(\"/\")[-2]\n",
    "        if entries[i][j] > 0.3:\n",
    "            G.add_edge(row,col,weight=entries[i][j])\n",
    "\n",
    "nx.write_gexf(G,\"Texts.gexf\")"
   ]
  },
  {
   "cell_type": "code",
   "execution_count": null,
   "metadata": {},
   "outputs": [],
   "source": []
  }
 ],
 "metadata": {
  "kernelspec": {
   "display_name": "Python 3",
   "language": "python",
   "name": "python3"
  },
  "language_info": {
   "codemirror_mode": {
    "name": "ipython",
    "version": 2
   },
   "file_extension": ".py",
   "mimetype": "text/x-python",
   "name": "python",
   "nbconvert_exporter": "python",
   "pygments_lexer": "ipython2",
   "version": "2.7.10"
  }
 },
 "nbformat": 4,
 "nbformat_minor": 2
}

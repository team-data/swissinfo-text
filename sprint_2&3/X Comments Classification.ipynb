{
 "cells": [
  {
   "cell_type": "markdown",
   "metadata": {},
   "source": [
    "# Import libs"
   ]
  },
  {
   "cell_type": "code",
   "execution_count": 35,
   "metadata": {},
   "outputs": [],
   "source": [
    "import requests\n",
    "from bs4 import BeautifulSoup\n",
    "import pandas as pd\n",
    "%matplotlib inline \n",
    "import sys  \n",
    "reload(sys)  \n",
    "sys.setdefaultencoding('utf8')\n",
    "sys.getdefaultencoding()\n",
    "import re\n",
    "import os\n",
    "import commands"
   ]
  },
  {
   "cell_type": "markdown",
   "metadata": {},
   "source": [
    "# Open comments"
   ]
  },
  {
   "cell_type": "code",
   "execution_count": 18,
   "metadata": {},
   "outputs": [
    {
     "data": {
      "text/html": [
       "<div>\n",
       "<style scoped>\n",
       "    .dataframe tbody tr th:only-of-type {\n",
       "        vertical-align: middle;\n",
       "    }\n",
       "\n",
       "    .dataframe tbody tr th {\n",
       "        vertical-align: top;\n",
       "    }\n",
       "\n",
       "    .dataframe thead th {\n",
       "        text-align: right;\n",
       "    }\n",
       "</style>\n",
       "<table border=\"1\" class=\"dataframe\">\n",
       "  <thead>\n",
       "    <tr style=\"text-align: right;\">\n",
       "      <th></th>\n",
       "      <th>text</th>\n",
       "      <th>creationDate</th>\n",
       "      <th>state.name</th>\n",
       "      <th>languageId</th>\n",
       "      <th>target.site</th>\n",
       "      <th>target.id</th>\n",
       "      <th>authorName</th>\n",
       "      <th>anonymousAddress</th>\n",
       "      <th>anonymoussEmail</th>\n",
       "    </tr>\n",
       "  </thead>\n",
       "  <tbody>\n",
       "    <tr>\n",
       "      <th>0</th>\n",
       "      <td>swissinfoにご意見・ご感想をお送りいただくためには以下にあるフォームをご使用ください...</td>\n",
       "      <td>2009-11-17T08:22:49.896Z</td>\n",
       "      <td>APPROVED</td>\n",
       "      <td>ja</td>\n",
       "      <td>swissinfo-ja</td>\n",
       "      <td>coremedia:///cap/content/752124</td>\n",
       "      <td>ご感想をお送りいた</td>\n",
       "      <td>Cayman Islands</td>\n",
       "      <td>NaN</td>\n",
       "    </tr>\n",
       "    <tr>\n",
       "      <th>1</th>\n",
       "      <td>Suzanne! It is because of the fact that George...</td>\n",
       "      <td>2013-03-15T01:00:53.571Z</td>\n",
       "      <td>APPROVED</td>\n",
       "      <td>en</td>\n",
       "      <td>swissinfo-en</td>\n",
       "      <td>coremedia:///cap/content/45298</td>\n",
       "      <td>Rohil</td>\n",
       "      <td>United States</td>\n",
       "      <td>NaN</td>\n",
       "    </tr>\n",
       "    <tr>\n",
       "      <th>2</th>\n",
       "      <td>The Iraqi journalist is also in Switzerland to...</td>\n",
       "      <td>2009-11-18T09:03:14.710Z</td>\n",
       "      <td>APPROVED</td>\n",
       "      <td>en</td>\n",
       "      <td>swissinfo-en</td>\n",
       "      <td>coremedia:///cap/content/45298</td>\n",
       "      <td>Steve</td>\n",
       "      <td>United Kingdom</td>\n",
       "      <td>NaN</td>\n",
       "    </tr>\n",
       "    <tr>\n",
       "      <th>3</th>\n",
       "      <td>ad af afasf asf af as fasf asf asf asfasf</td>\n",
       "      <td>2009-11-25T15:10:00.329Z</td>\n",
       "      <td>REJECTED</td>\n",
       "      <td>en</td>\n",
       "      <td>swissinfo-en</td>\n",
       "      <td>coremedia:///cap/content/45298</td>\n",
       "      <td>Uwe &amp; Leo</td>\n",
       "      <td>Switzerland</td>\n",
       "      <td>NaN</td>\n",
       "    </tr>\n",
       "    <tr>\n",
       "      <th>4</th>\n",
       "      <td>gfhnfg ofh fgnhu oiuhn gf</td>\n",
       "      <td>2009-12-01T11:08:33.468Z</td>\n",
       "      <td>REJECTED</td>\n",
       "      <td>fr</td>\n",
       "      <td>swissinfo-fr</td>\n",
       "      <td>coremedia:///cap/content/167184</td>\n",
       "      <td>Luc</td>\n",
       "      <td>Afghanistan</td>\n",
       "      <td>NaN</td>\n",
       "    </tr>\n",
       "  </tbody>\n",
       "</table>\n",
       "</div>"
      ],
      "text/plain": [
       "                                                text  \\\n",
       "0  swissinfoにご意見・ご感想をお送りいただくためには以下にあるフォームをご使用ください...   \n",
       "1  Suzanne! It is because of the fact that George...   \n",
       "2  The Iraqi journalist is also in Switzerland to...   \n",
       "3          ad af afasf asf af as fasf asf asf asfasf   \n",
       "4                          gfhnfg ofh fgnhu oiuhn gf   \n",
       "\n",
       "               creationDate state.name languageId   target.site  \\\n",
       "0  2009-11-17T08:22:49.896Z   APPROVED         ja  swissinfo-ja   \n",
       "1  2013-03-15T01:00:53.571Z   APPROVED         en  swissinfo-en   \n",
       "2  2009-11-18T09:03:14.710Z   APPROVED         en  swissinfo-en   \n",
       "3  2009-11-25T15:10:00.329Z   REJECTED         en  swissinfo-en   \n",
       "4  2009-12-01T11:08:33.468Z   REJECTED         fr  swissinfo-fr   \n",
       "\n",
       "                         target.id authorName anonymousAddress  \\\n",
       "0  coremedia:///cap/content/752124  ご感想をお送りいた   Cayman Islands   \n",
       "1   coremedia:///cap/content/45298      Rohil    United States   \n",
       "2   coremedia:///cap/content/45298      Steve   United Kingdom   \n",
       "3   coremedia:///cap/content/45298  Uwe & Leo      Switzerland   \n",
       "4  coremedia:///cap/content/167184        Luc      Afghanistan   \n",
       "\n",
       "   anonymoussEmail  \n",
       "0              NaN  \n",
       "1              NaN  \n",
       "2              NaN  \n",
       "3              NaN  \n",
       "4              NaN  "
      ]
     },
     "execution_count": 18,
     "metadata": {},
     "output_type": "execute_result"
    }
   ],
   "source": [
    "df = pd.read_csv(\"/Users/plotti/code/swissinfo-data/comments_with_id.csv\")\n",
    "df.head()"
   ]
  },
  {
   "cell_type": "code",
   "execution_count": 19,
   "metadata": {},
   "outputs": [
    {
     "data": {
      "text/plain": [
       "91939"
      ]
     },
     "execution_count": 19,
     "metadata": {},
     "output_type": "execute_result"
    }
   ],
   "source": [
    "len(df)"
   ]
  },
  {
   "cell_type": "code",
   "execution_count": 20,
   "metadata": {},
   "outputs": [],
   "source": [
    "df_en = df[df[\"languageId\"] == \"en\"]"
   ]
  },
  {
   "cell_type": "code",
   "execution_count": 21,
   "metadata": {},
   "outputs": [
    {
     "data": {
      "text/plain": [
       "26857"
      ]
     },
     "execution_count": 21,
     "metadata": {},
     "output_type": "execute_result"
    }
   ],
   "source": [
    "len(df_en)"
   ]
  },
  {
   "cell_type": "markdown",
   "metadata": {},
   "source": [
    "# Make Categories"
   ]
  },
  {
   "cell_type": "code",
   "execution_count": 22,
   "metadata": {},
   "outputs": [
    {
     "data": {
      "text/html": [
       "<div>\n",
       "<style scoped>\n",
       "    .dataframe tbody tr th:only-of-type {\n",
       "        vertical-align: middle;\n",
       "    }\n",
       "\n",
       "    .dataframe tbody tr th {\n",
       "        vertical-align: top;\n",
       "    }\n",
       "\n",
       "    .dataframe thead th {\n",
       "        text-align: right;\n",
       "    }\n",
       "</style>\n",
       "<table border=\"1\" class=\"dataframe\">\n",
       "  <thead>\n",
       "    <tr style=\"text-align: right;\">\n",
       "      <th></th>\n",
       "      <th>text</th>\n",
       "      <th>creationDate</th>\n",
       "      <th>state.name</th>\n",
       "      <th>languageId</th>\n",
       "      <th>target.site</th>\n",
       "      <th>target.id</th>\n",
       "      <th>authorName</th>\n",
       "      <th>anonymousAddress</th>\n",
       "      <th>anonymoussEmail</th>\n",
       "      <th>code</th>\n",
       "    </tr>\n",
       "  </thead>\n",
       "  <tbody>\n",
       "    <tr>\n",
       "      <th>1</th>\n",
       "      <td>Suzanne! It is because of the fact that George...</td>\n",
       "      <td>2013-03-15T01:00:53.571Z</td>\n",
       "      <td>APPROVED</td>\n",
       "      <td>en</td>\n",
       "      <td>swissinfo-en</td>\n",
       "      <td>coremedia:///cap/content/45298</td>\n",
       "      <td>Rohil</td>\n",
       "      <td>United States</td>\n",
       "      <td>NaN</td>\n",
       "      <td>0</td>\n",
       "    </tr>\n",
       "    <tr>\n",
       "      <th>2</th>\n",
       "      <td>The Iraqi journalist is also in Switzerland to...</td>\n",
       "      <td>2009-11-18T09:03:14.710Z</td>\n",
       "      <td>APPROVED</td>\n",
       "      <td>en</td>\n",
       "      <td>swissinfo-en</td>\n",
       "      <td>coremedia:///cap/content/45298</td>\n",
       "      <td>Steve</td>\n",
       "      <td>United Kingdom</td>\n",
       "      <td>NaN</td>\n",
       "      <td>0</td>\n",
       "    </tr>\n",
       "    <tr>\n",
       "      <th>3</th>\n",
       "      <td>ad af afasf asf af as fasf asf asf asfasf</td>\n",
       "      <td>2009-11-25T15:10:00.329Z</td>\n",
       "      <td>REJECTED</td>\n",
       "      <td>en</td>\n",
       "      <td>swissinfo-en</td>\n",
       "      <td>coremedia:///cap/content/45298</td>\n",
       "      <td>Uwe &amp; Leo</td>\n",
       "      <td>Switzerland</td>\n",
       "      <td>NaN</td>\n",
       "      <td>1</td>\n",
       "    </tr>\n",
       "    <tr>\n",
       "      <th>5</th>\n",
       "      <td>This is only a ban on minarets, not on mosques...</td>\n",
       "      <td>2009-12-14T18:14:04.780Z</td>\n",
       "      <td>APPROVED</td>\n",
       "      <td>en</td>\n",
       "      <td>swissinfo-en</td>\n",
       "      <td>coremedia:///cap/content/7793976</td>\n",
       "      <td>David</td>\n",
       "      <td>Canada</td>\n",
       "      <td>NaN</td>\n",
       "      <td>0</td>\n",
       "    </tr>\n",
       "    <tr>\n",
       "      <th>6</th>\n",
       "      <td>Nobody's exercise of individual human rights w...</td>\n",
       "      <td>2009-12-06T18:18:59.866Z</td>\n",
       "      <td>APPROVED</td>\n",
       "      <td>en</td>\n",
       "      <td>swissinfo-en</td>\n",
       "      <td>coremedia:///cap/content/7793976</td>\n",
       "      <td>Stefi</td>\n",
       "      <td>United States</td>\n",
       "      <td>NaN</td>\n",
       "      <td>0</td>\n",
       "    </tr>\n",
       "  </tbody>\n",
       "</table>\n",
       "</div>"
      ],
      "text/plain": [
       "                                                text  \\\n",
       "1  Suzanne! It is because of the fact that George...   \n",
       "2  The Iraqi journalist is also in Switzerland to...   \n",
       "3          ad af afasf asf af as fasf asf asf asfasf   \n",
       "5  This is only a ban on minarets, not on mosques...   \n",
       "6  Nobody's exercise of individual human rights w...   \n",
       "\n",
       "               creationDate state.name languageId   target.site  \\\n",
       "1  2013-03-15T01:00:53.571Z   APPROVED         en  swissinfo-en   \n",
       "2  2009-11-18T09:03:14.710Z   APPROVED         en  swissinfo-en   \n",
       "3  2009-11-25T15:10:00.329Z   REJECTED         en  swissinfo-en   \n",
       "5  2009-12-14T18:14:04.780Z   APPROVED         en  swissinfo-en   \n",
       "6  2009-12-06T18:18:59.866Z   APPROVED         en  swissinfo-en   \n",
       "\n",
       "                          target.id authorName anonymousAddress  \\\n",
       "1    coremedia:///cap/content/45298      Rohil    United States   \n",
       "2    coremedia:///cap/content/45298      Steve   United Kingdom   \n",
       "3    coremedia:///cap/content/45298  Uwe & Leo      Switzerland   \n",
       "5  coremedia:///cap/content/7793976      David           Canada   \n",
       "6  coremedia:///cap/content/7793976      Stefi    United States   \n",
       "\n",
       "   anonymoussEmail  code  \n",
       "1              NaN     0  \n",
       "2              NaN     0  \n",
       "3              NaN     1  \n",
       "5              NaN     0  \n",
       "6              NaN     0  "
      ]
     },
     "execution_count": 22,
     "metadata": {},
     "output_type": "execute_result"
    }
   ],
   "source": [
    "df_en[\"state.name\"] = pd.Categorical(df_en[\"state.name\"])\n",
    "df_en['code'] = df_en[\"state.name\"].cat.codes\n",
    "df_en.head()"
   ]
  },
  {
   "cell_type": "code",
   "execution_count": 24,
   "metadata": {},
   "outputs": [
    {
     "data": {
      "text/plain": [
       "{0: 'APPROVED', 1: 'REJECTED'}"
      ]
     },
     "execution_count": 24,
     "metadata": {},
     "output_type": "execute_result"
    }
   ],
   "source": [
    "dict( enumerate(df_en['state.name'].cat.categories) )"
   ]
  },
  {
   "cell_type": "markdown",
   "metadata": {},
   "source": [
    "# Filter down only to approved and rejected"
   ]
  },
  {
   "cell_type": "code",
   "execution_count": 25,
   "metadata": {},
   "outputs": [],
   "source": [
    "relevant_categories = [\"APPROVED\",\"REJECTED\"]"
   ]
  },
  {
   "cell_type": "code",
   "execution_count": 26,
   "metadata": {},
   "outputs": [
    {
     "data": {
      "text/plain": [
       "26857"
      ]
     },
     "execution_count": 26,
     "metadata": {},
     "output_type": "execute_result"
    }
   ],
   "source": [
    "df_filtered = df_en[df_en['state.name'].isin(relevant_categories)]\n",
    "len(df_filtered)"
   ]
  },
  {
   "cell_type": "markdown",
   "metadata": {},
   "source": [
    "# How many are approved vs. rejected"
   ]
  },
  {
   "cell_type": "code",
   "execution_count": 28,
   "metadata": {},
   "outputs": [
    {
     "data": {
      "text/plain": [
       "APPROVED    21097\n",
       "REJECTED     5760\n",
       "Name: state.name, dtype: int64"
      ]
     },
     "execution_count": 28,
     "metadata": {},
     "output_type": "execute_result"
    }
   ],
   "source": [
    "df_filtered['state.name'].value_counts()"
   ]
  },
  {
   "cell_type": "markdown",
   "metadata": {},
   "source": [
    "# Prepare data for training"
   ]
  },
  {
   "cell_type": "code",
   "execution_count": 29,
   "metadata": {},
   "outputs": [],
   "source": [
    "import json\n",
    "from pathlib import Path\n",
    "import re\n",
    "import random\n",
    "\n",
    "training_data = Path(\"fasttext_comments_dataset_training.txt\")\n",
    "test_data = Path(\"fasttext_comments_dataset_test.txt\")\n",
    "\n",
    "# What percent of data to save separately as test data\n",
    "percent_test_data = 0.10\n",
    "\n",
    "\n",
    "def strip_formatting(string):\n",
    "    string = string.lower()\n",
    "    string = re.sub(r\"([.!?,'/()])\", r\" \\1 \", string)\n",
    "    return string\n",
    "\n",
    "with training_data.open(\"w\") as train_output, \\\n",
    "     test_data.open(\"w\") as test_output:\n",
    "\n",
    "    for i,item in df_filtered.iterrows():\n",
    "        #print(item)\n",
    "        if (item[\"state.name\"] != \"\") & (item[\"text\"] != \"\"):\n",
    "            tag = item[\"code\"]\n",
    "            text = item[\"text\"].replace(\"\\n\", \" \")\n",
    "            text = strip_formatting(text)\n",
    "\n",
    "            fasttext_line = unicode(\"__label__{} {}\".format(tag, text),'utf-8')\n",
    "\n",
    "            if random.random() <= percent_test_data:\n",
    "                test_output.write(fasttext_line + \"\\n\")\n",
    "            else:\n",
    "                train_output.write(fasttext_line + \"\\n\")"
   ]
  },
  {
   "cell_type": "markdown",
   "metadata": {},
   "source": [
    "# Train"
   ]
  },
  {
   "cell_type": "code",
   "execution_count": 30,
   "metadata": {},
   "outputs": [],
   "source": [
    "!fasttext supervised -input fasttext_comments_dataset_training.txt -output category_model "
   ]
  },
  {
   "cell_type": "markdown",
   "metadata": {},
   "source": [
    "# Test"
   ]
  },
  {
   "cell_type": "code",
   "execution_count": 31,
   "metadata": {},
   "outputs": [],
   "source": [
    "!fasttext test category_model.bin fasttext_comments_dataset_test.txt"
   ]
  },
  {
   "cell_type": "markdown",
   "metadata": {},
   "source": [
    "# Results"
   ]
  },
  {
   "cell_type": "markdown",
   "metadata": {},
   "source": [
    "- We've got 80% hit rate without tuning. \n",
    "- Thats enough to screen comments I'd say."
   ]
  },
  {
   "cell_type": "markdown",
   "metadata": {},
   "source": [
    "# Predict Something"
   ]
  },
  {
   "cell_type": "code",
   "execution_count": 33,
   "metadata": {},
   "outputs": [],
   "source": [
    "r = dict( enumerate(df_filtered['state.name'].cat.categories) )"
   ]
  },
  {
   "cell_type": "code",
   "execution_count": 36,
   "metadata": {},
   "outputs": [
    {
     "data": {
      "text/plain": [
       "'REJECTED'"
      ]
     },
     "execution_count": 36,
     "metadata": {},
     "output_type": "execute_result"
    }
   ],
   "source": [
    "out = commands.getstatusoutput(\"echo 'such a shit. I hate you all' | fasttext predict category_model.bin -\")[1]\n",
    "r[int(out.split(\"_\")[-1])]"
   ]
  },
  {
   "cell_type": "code",
   "execution_count": 37,
   "metadata": {},
   "outputs": [
    {
     "data": {
      "text/plain": [
       "'APPROVED'"
      ]
     },
     "execution_count": 37,
     "metadata": {},
     "output_type": "execute_result"
    }
   ],
   "source": [
    "out = commands.getstatusoutput(\"echo 'A very nice comment with kisses and stuff.' | fasttext predict category_model.bin -\")[1]\n",
    "r[int(out.split(\"_\")[-1])]"
   ]
  },
  {
   "cell_type": "markdown",
   "metadata": {},
   "source": [
    "# Train with tuning "
   ]
  },
  {
   "cell_type": "markdown",
   "metadata": {},
   "source": [
    "https://www.analyticsvidhya.com/blog/2017/07/word-representations-text-classification-using-fasttext-nlp-facebook/"
   ]
  },
  {
   "cell_type": "code",
   "execution_count": 65,
   "metadata": {},
   "outputs": [],
   "source": [
    "!fasttext supervised -input fasttext_dataset_training.txt -output category_model -epoch 100 -lr 1.0"
   ]
  },
  {
   "cell_type": "code",
   "execution_count": 66,
   "metadata": {},
   "outputs": [],
   "source": [
    "!fasttext test category_model.bin fasttext_dataset_test.txt"
   ]
  },
  {
   "cell_type": "markdown",
   "metadata": {},
   "source": [
    "- 0.21 worse accuracy :("
   ]
  },
  {
   "cell_type": "code",
   "execution_count": 27,
   "metadata": {},
   "outputs": [],
   "source": [
    "!fasttext supervised -input fasttext_dataset_training.txt -output category_model -epoch 10 -lr 1.0 -wordNgrams 3"
   ]
  },
  {
   "cell_type": "code",
   "execution_count": 28,
   "metadata": {},
   "outputs": [],
   "source": [
    "!fasttext test category_model.bin fasttext_dataset_test.txt"
   ]
  },
  {
   "cell_type": "markdown",
   "metadata": {},
   "source": [
    "- 0.32 better accuracy"
   ]
  },
  {
   "cell_type": "code",
   "execution_count": 29,
   "metadata": {},
   "outputs": [],
   "source": [
    "!fasttext supervised -input fasttext_dataset_training.txt -output category_model -epoch 10 -lr 1.0 -wordNgrams 2"
   ]
  },
  {
   "cell_type": "code",
   "execution_count": 30,
   "metadata": {},
   "outputs": [],
   "source": [
    "!fasttext test category_model.bin fasttext_dataset_test.txt"
   ]
  },
  {
   "cell_type": "markdown",
   "metadata": {},
   "source": [
    "- 0.35 "
   ]
  },
  {
   "cell_type": "code",
   "execution_count": 71,
   "metadata": {},
   "outputs": [],
   "source": [
    "!fasttext supervised -input fasttext_dataset_training.txt -output category_model -epoch 30 -lr 1.0 -wordNgrams 2"
   ]
  },
  {
   "cell_type": "code",
   "execution_count": 72,
   "metadata": {},
   "outputs": [],
   "source": [
    "!fasttext test category_model.bin fasttext_dataset_test.txt"
   ]
  },
  {
   "cell_type": "markdown",
   "metadata": {},
   "source": [
    "- 0.238"
   ]
  },
  {
   "cell_type": "code",
   "execution_count": 73,
   "metadata": {},
   "outputs": [],
   "source": [
    "!fasttext supervised -input fasttext_dataset_training.txt -output category_model -epoch 10 -lr 0.1 -wordNgrams 2"
   ]
  },
  {
   "cell_type": "code",
   "execution_count": 74,
   "metadata": {},
   "outputs": [],
   "source": [
    "!fasttext test category_model.bin fasttext_dataset_test.txt"
   ]
  },
  {
   "cell_type": "markdown",
   "metadata": {},
   "source": [
    "- 0.305"
   ]
  },
  {
   "cell_type": "code",
   "execution_count": 75,
   "metadata": {},
   "outputs": [],
   "source": [
    "!fasttext supervised -input fasttext_dataset_training.txt -output category_model -epoch 10 -lr 2.0 -wordNgrams 2"
   ]
  },
  {
   "cell_type": "code",
   "execution_count": 76,
   "metadata": {},
   "outputs": [],
   "source": [
    "!fasttext test category_model.bin fasttext_dataset_test.txt"
   ]
  },
  {
   "cell_type": "markdown",
   "metadata": {},
   "source": [
    "# Grid Search"
   ]
  },
  {
   "cell_type": "code",
   "execution_count": null,
   "metadata": {},
   "outputs": [],
   "source": [
    "!./gridSearch.sh"
   ]
  }
 ],
 "metadata": {
  "kernelspec": {
   "display_name": "Python 3",
   "language": "python",
   "name": "python3"
  },
  "language_info": {
   "codemirror_mode": {
    "name": "ipython",
    "version": 2
   },
   "file_extension": ".py",
   "mimetype": "text/x-python",
   "name": "python",
   "nbconvert_exporter": "python",
   "pygments_lexer": "ipython2",
   "version": "2.7.10"
  }
 },
 "nbformat": 4,
 "nbformat_minor": 2
}

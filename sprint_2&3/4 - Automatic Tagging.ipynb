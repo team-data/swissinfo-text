{
 "cells": [
  {
   "cell_type": "markdown",
   "metadata": {
    "hideCode": false,
    "hidePrompt": false
   },
   "source": [
    "# Helping Redactors to tag their content faster with IPTC tags"
   ]
  },
  {
   "cell_type": "code",
   "execution_count": 61,
   "metadata": {
    "hideCode": false,
    "hidePrompt": false
   },
   "outputs": [],
   "source": [
    "import requests\n",
    "from bs4 import BeautifulSoup\n",
    "import pandas as pd\n",
    "%matplotlib inline \n",
    "import sys  \n",
    "reload(sys)  \n",
    "sys.setdefaultencoding('utf8')\n",
    "sys.getdefaultencoding()"
   ]
  },
  {
   "cell_type": "markdown",
   "metadata": {
    "hideCode": false,
    "hidePrompt": false
   },
   "source": [
    "- Redakteure müssen aktuell selbst schlagworte und rubriken vorschlagen.\n",
    "- Das ist evtl. mühlelig und auch nicht besonders exakt"
   ]
  },
  {
   "cell_type": "code",
   "execution_count": 62,
   "metadata": {
    "hideCode": false,
    "hidePrompt": false
   },
   "outputs": [],
   "source": [
    "from IPython.display import Image\n",
    "#Image(filename='tags.png') "
   ]
  },
  {
   "cell_type": "markdown",
   "metadata": {
    "hideCode": false,
    "hidePrompt": false
   },
   "source": [
    "# Scrape Items"
   ]
  },
  {
   "cell_type": "code",
   "execution_count": 63,
   "metadata": {
    "hideCode": false,
    "hidePrompt": false
   },
   "outputs": [
    {
     "ename": "SSLError",
     "evalue": "EOF occurred in violation of protocol (_ssl.c:590)",
     "output_type": "error",
     "traceback": [
      "\u001b[0;31m---------------------------------------------------------------------------\u001b[0m",
      "\u001b[0;31mSSLError\u001b[0m                                  Traceback (most recent call last)",
      "\u001b[0;32m<ipython-input-63-38ac9c782d07>\u001b[0m in \u001b[0;36m<module>\u001b[0;34m()\u001b[0m\n\u001b[1;32m     14\u001b[0m         \u001b[0;32mprint\u001b[0m\u001b[0;34m(\u001b[0m\u001b[0;34m\"--%s\"\u001b[0m \u001b[0;34m%\u001b[0m \u001b[0murl\u001b[0m\u001b[0;34m)\u001b[0m\u001b[0;34m\u001b[0m\u001b[0m\n\u001b[1;32m     15\u001b[0m         \u001b[0mtmp\u001b[0m \u001b[0;34m=\u001b[0m \u001b[0mrequests\u001b[0m\u001b[0;34m.\u001b[0m\u001b[0mget\u001b[0m\u001b[0;34m(\u001b[0m\u001b[0murl\u001b[0m\u001b[0;34m)\u001b[0m\u001b[0;34m\u001b[0m\u001b[0m\n\u001b[0;32m---> 16\u001b[0;31m         \u001b[0mr\u001b[0m \u001b[0;34m=\u001b[0m \u001b[0mrequests\u001b[0m\u001b[0;34m.\u001b[0m\u001b[0mget\u001b[0m\u001b[0;34m(\u001b[0m\u001b[0;34m\"https://www.swissinfo.ch%s\"\u001b[0m \u001b[0;34m%\u001b[0m \u001b[0mtmp\u001b[0m\u001b[0;34m.\u001b[0m\u001b[0mjson\u001b[0m\u001b[0;34m(\u001b[0m\u001b[0;34m)\u001b[0m\u001b[0;34m[\u001b[0m\u001b[0;34m\"item\"\u001b[0m\u001b[0;34m]\u001b[0m\u001b[0;34m[\u001b[0m\u001b[0;34m\"url\"\u001b[0m\u001b[0;34m]\u001b[0m\u001b[0;34m)\u001b[0m\u001b[0;34m.\u001b[0m\u001b[0mjson\u001b[0m\u001b[0;34m(\u001b[0m\u001b[0;34m)\u001b[0m\u001b[0;34m\u001b[0m\u001b[0m\n\u001b[0m\u001b[1;32m     17\u001b[0m         \u001b[0;32mtry\u001b[0m\u001b[0;34m:\u001b[0m\u001b[0;34m\u001b[0m\u001b[0m\n\u001b[1;32m     18\u001b[0m             \u001b[0mtag\u001b[0m \u001b[0;34m=\u001b[0m \u001b[0mr\u001b[0m\u001b[0;34m[\u001b[0m\u001b[0;34m\"header\"\u001b[0m\u001b[0;34m]\u001b[0m\u001b[0;34m[\u001b[0m\u001b[0;34m\"subjectTags\"\u001b[0m\u001b[0;34m]\u001b[0m\u001b[0;34m[\u001b[0m\u001b[0;36m0\u001b[0m\u001b[0;34m]\u001b[0m\u001b[0;34m[\u001b[0m\u001b[0;34m\"title\"\u001b[0m\u001b[0;34m]\u001b[0m\u001b[0;34m\u001b[0m\u001b[0m\n",
      "\u001b[0;32m/Users/plotti/Library/Python/2.7/lib/python/site-packages/requests/api.pyc\u001b[0m in \u001b[0;36mget\u001b[0;34m(url, params, **kwargs)\u001b[0m\n\u001b[1;32m     70\u001b[0m \u001b[0;34m\u001b[0m\u001b[0m\n\u001b[1;32m     71\u001b[0m     \u001b[0mkwargs\u001b[0m\u001b[0;34m.\u001b[0m\u001b[0msetdefault\u001b[0m\u001b[0;34m(\u001b[0m\u001b[0;34m'allow_redirects'\u001b[0m\u001b[0;34m,\u001b[0m \u001b[0mTrue\u001b[0m\u001b[0;34m)\u001b[0m\u001b[0;34m\u001b[0m\u001b[0m\n\u001b[0;32m---> 72\u001b[0;31m     \u001b[0;32mreturn\u001b[0m \u001b[0mrequest\u001b[0m\u001b[0;34m(\u001b[0m\u001b[0;34m'get'\u001b[0m\u001b[0;34m,\u001b[0m \u001b[0murl\u001b[0m\u001b[0;34m,\u001b[0m \u001b[0mparams\u001b[0m\u001b[0;34m=\u001b[0m\u001b[0mparams\u001b[0m\u001b[0;34m,\u001b[0m \u001b[0;34m**\u001b[0m\u001b[0mkwargs\u001b[0m\u001b[0;34m)\u001b[0m\u001b[0;34m\u001b[0m\u001b[0m\n\u001b[0m\u001b[1;32m     73\u001b[0m \u001b[0;34m\u001b[0m\u001b[0m\n\u001b[1;32m     74\u001b[0m \u001b[0;34m\u001b[0m\u001b[0m\n",
      "\u001b[0;32m/Users/plotti/Library/Python/2.7/lib/python/site-packages/requests/api.pyc\u001b[0m in \u001b[0;36mrequest\u001b[0;34m(method, url, **kwargs)\u001b[0m\n\u001b[1;32m     56\u001b[0m     \u001b[0;31m# cases, and look like a memory leak in others.\u001b[0m\u001b[0;34m\u001b[0m\u001b[0;34m\u001b[0m\u001b[0m\n\u001b[1;32m     57\u001b[0m     \u001b[0;32mwith\u001b[0m \u001b[0msessions\u001b[0m\u001b[0;34m.\u001b[0m\u001b[0mSession\u001b[0m\u001b[0;34m(\u001b[0m\u001b[0;34m)\u001b[0m \u001b[0;32mas\u001b[0m \u001b[0msession\u001b[0m\u001b[0;34m:\u001b[0m\u001b[0;34m\u001b[0m\u001b[0m\n\u001b[0;32m---> 58\u001b[0;31m         \u001b[0;32mreturn\u001b[0m \u001b[0msession\u001b[0m\u001b[0;34m.\u001b[0m\u001b[0mrequest\u001b[0m\u001b[0;34m(\u001b[0m\u001b[0mmethod\u001b[0m\u001b[0;34m=\u001b[0m\u001b[0mmethod\u001b[0m\u001b[0;34m,\u001b[0m \u001b[0murl\u001b[0m\u001b[0;34m=\u001b[0m\u001b[0murl\u001b[0m\u001b[0;34m,\u001b[0m \u001b[0;34m**\u001b[0m\u001b[0mkwargs\u001b[0m\u001b[0;34m)\u001b[0m\u001b[0;34m\u001b[0m\u001b[0m\n\u001b[0m\u001b[1;32m     59\u001b[0m \u001b[0;34m\u001b[0m\u001b[0m\n\u001b[1;32m     60\u001b[0m \u001b[0;34m\u001b[0m\u001b[0m\n",
      "\u001b[0;32m/Users/plotti/Library/Python/2.7/lib/python/site-packages/requests/sessions.pyc\u001b[0m in \u001b[0;36mrequest\u001b[0;34m(self, method, url, params, data, headers, cookies, files, auth, timeout, allow_redirects, proxies, hooks, stream, verify, cert, json)\u001b[0m\n\u001b[1;32m    511\u001b[0m         }\n\u001b[1;32m    512\u001b[0m         \u001b[0msend_kwargs\u001b[0m\u001b[0;34m.\u001b[0m\u001b[0mupdate\u001b[0m\u001b[0;34m(\u001b[0m\u001b[0msettings\u001b[0m\u001b[0;34m)\u001b[0m\u001b[0;34m\u001b[0m\u001b[0m\n\u001b[0;32m--> 513\u001b[0;31m         \u001b[0mresp\u001b[0m \u001b[0;34m=\u001b[0m \u001b[0mself\u001b[0m\u001b[0;34m.\u001b[0m\u001b[0msend\u001b[0m\u001b[0;34m(\u001b[0m\u001b[0mprep\u001b[0m\u001b[0;34m,\u001b[0m \u001b[0;34m**\u001b[0m\u001b[0msend_kwargs\u001b[0m\u001b[0;34m)\u001b[0m\u001b[0;34m\u001b[0m\u001b[0m\n\u001b[0m\u001b[1;32m    514\u001b[0m \u001b[0;34m\u001b[0m\u001b[0m\n\u001b[1;32m    515\u001b[0m         \u001b[0;32mreturn\u001b[0m \u001b[0mresp\u001b[0m\u001b[0;34m\u001b[0m\u001b[0m\n",
      "\u001b[0;32m/Users/plotti/Library/Python/2.7/lib/python/site-packages/requests/sessions.pyc\u001b[0m in \u001b[0;36msend\u001b[0;34m(self, request, **kwargs)\u001b[0m\n\u001b[1;32m    621\u001b[0m \u001b[0;34m\u001b[0m\u001b[0m\n\u001b[1;32m    622\u001b[0m         \u001b[0;31m# Send the request\u001b[0m\u001b[0;34m\u001b[0m\u001b[0;34m\u001b[0m\u001b[0m\n\u001b[0;32m--> 623\u001b[0;31m         \u001b[0mr\u001b[0m \u001b[0;34m=\u001b[0m \u001b[0madapter\u001b[0m\u001b[0;34m.\u001b[0m\u001b[0msend\u001b[0m\u001b[0;34m(\u001b[0m\u001b[0mrequest\u001b[0m\u001b[0;34m,\u001b[0m \u001b[0;34m**\u001b[0m\u001b[0mkwargs\u001b[0m\u001b[0;34m)\u001b[0m\u001b[0;34m\u001b[0m\u001b[0m\n\u001b[0m\u001b[1;32m    624\u001b[0m \u001b[0;34m\u001b[0m\u001b[0m\n\u001b[1;32m    625\u001b[0m         \u001b[0;31m# Total elapsed time of the request (approximately)\u001b[0m\u001b[0;34m\u001b[0m\u001b[0;34m\u001b[0m\u001b[0m\n",
      "\u001b[0;32m/Users/plotti/Library/Python/2.7/lib/python/site-packages/requests/adapters.pyc\u001b[0m in \u001b[0;36msend\u001b[0;34m(self, request, stream, timeout, verify, cert, proxies)\u001b[0m\n\u001b[1;32m    522\u001b[0m             \u001b[0;32mif\u001b[0m \u001b[0misinstance\u001b[0m\u001b[0;34m(\u001b[0m\u001b[0me\u001b[0m\u001b[0;34m,\u001b[0m \u001b[0m_SSLError\u001b[0m\u001b[0;34m)\u001b[0m\u001b[0;34m:\u001b[0m\u001b[0;34m\u001b[0m\u001b[0m\n\u001b[1;32m    523\u001b[0m                 \u001b[0;31m# This branch is for urllib3 versions earlier than v1.22\u001b[0m\u001b[0;34m\u001b[0m\u001b[0;34m\u001b[0m\u001b[0m\n\u001b[0;32m--> 524\u001b[0;31m                 \u001b[0;32mraise\u001b[0m \u001b[0mSSLError\u001b[0m\u001b[0;34m(\u001b[0m\u001b[0me\u001b[0m\u001b[0;34m,\u001b[0m \u001b[0mrequest\u001b[0m\u001b[0;34m=\u001b[0m\u001b[0mrequest\u001b[0m\u001b[0;34m)\u001b[0m\u001b[0;34m\u001b[0m\u001b[0m\n\u001b[0m\u001b[1;32m    525\u001b[0m             \u001b[0;32melif\u001b[0m \u001b[0misinstance\u001b[0m\u001b[0;34m(\u001b[0m\u001b[0me\u001b[0m\u001b[0;34m,\u001b[0m \u001b[0mReadTimeoutError\u001b[0m\u001b[0;34m)\u001b[0m\u001b[0;34m:\u001b[0m\u001b[0;34m\u001b[0m\u001b[0m\n\u001b[1;32m    526\u001b[0m                 \u001b[0;32mraise\u001b[0m \u001b[0mReadTimeout\u001b[0m\u001b[0;34m(\u001b[0m\u001b[0me\u001b[0m\u001b[0;34m,\u001b[0m \u001b[0mrequest\u001b[0m\u001b[0;34m=\u001b[0m\u001b[0mrequest\u001b[0m\u001b[0;34m)\u001b[0m\u001b[0;34m\u001b[0m\u001b[0m\n",
      "\u001b[0;31mSSLError\u001b[0m: EOF occurred in violation of protocol (_ssl.c:590)"
     ]
    }
   ],
   "source": [
    "items = []\n",
    "raw_data = []\n",
    "for i in range(1,10):\n",
    "    start = (i-1)*100\n",
    "    end =  i*100\n",
    "    print(\"start %s end %s\" %(start,end))\n",
    "    url = \"https://www.swissinfo.ch/eng/%s/%s?view=loadMore&end=%s&begin=%s\" % (start,end,end,start)\n",
    "    print(url)\n",
    "    results = requests.get(url)\n",
    "    page_content = BeautifulSoup(results.content, \"html.parser\")\n",
    "    for link in page_content.select(\"h3 a\"):\n",
    "        id = link[\"href\"].split(\"/\")[-1]\n",
    "        url = \"https://www.swissinfo.ch/webservice/swi-eng-2.0/deeplink?contentId=%s\" % id\n",
    "        print(\"--%s\" % url)\n",
    "        tmp = requests.get(url)\n",
    "        r = requests.get(\"https://www.swissinfo.ch%s\" % tmp.json()[\"item\"][\"url\"]).json()\n",
    "        try:\n",
    "            tag = r[\"header\"][\"subjectTags\"][0][\"title\"]\n",
    "        except:\n",
    "            tag = \"\"\n",
    "        soup = BeautifulSoup(r[\"htmldetail\"], \"lxml\")\n",
    "        text = \" \".join([text.get_text() for text in soup.find_all(['h1', 'h2', 'h3', 'h4', 'h5', \"p\"])])\n",
    "        try:\n",
    "            url = r[\"header\"][\"canonical\"]\n",
    "        except:\n",
    "            url = \"\"\n",
    "        raw_data.append(r)\n",
    "        items.append({\"id\": id, \"url\": url, \"tag\": tag, \"text\": text})"
   ]
  },
  {
   "cell_type": "code",
   "execution_count": 42,
   "metadata": {},
   "outputs": [
    {
     "data": {
      "text/plain": [
       "{'id': u'44623632',\n",
       " 'tag': u'Society',\n",
       " 'text': u'    Study examines health of Geneva\\u2019s undocumented migrants - SWI swissinfo.ch             Around 2,000 long-term undocumented migrants in Geneva look set to receive official resident permits when the canton\\'s \"Operation Papyrus\" concludes at the end of this year(\\xa9 KEYSTONE / SALVATORE DI NOLFI)       Little by little, Geneva is discovering more about the thousands of undocumented immigrants thought to be in the region. The initial results of a four-year study into the health and living conditions of illegal and regularised migrants have some important early findings.\\xa0Around 76,000 illegal immigrants are believed to be living in Switzerland (see infobox below). Of these, canton Geneva is home to 13,000. In 2015, the local and federal authorities launched a unique pilot scheme, known as Operation Papyrus, that looks set to grant around 2,000 long-term undocumented migrants in Geneva official resident permits when it concludes at the end of this year.\\xa0In parallel to the launch of Papyrus, a team of researchers, led by the University of Geneva, initiated a four-year study into the living conditions of illegal immigrants in Geneva and the impact of the regularisation process. They interviewed 450 undocumented migrants \\u2013 300 of whom benefited from the Papyrus scheme.\\xa0One year into the project, the team presented several initial results last month. They found that 38% of illegal migrants refuse to seek health care due to the high costs, compared to 14% of Swiss residents and 22% of those who benefited from the Papyrus scheme.\\xa0Among illegal migrants who had no basic health insurance, chronic illnesses were more present. Mental health problems were also more common, and signs of depression were identified among 60% of those questioned.\\xa0\\u201cPoor mental health due to exposure to different sources of stress is worrying,\\u201d Parchemins study co-author and Geneva University Hospital doctor Yves Jackson told the Tribune de Gen\\xe8ve newspaper. \\u201cDepression and anxiety are often of secondary concern, but they have a very clear impact on quality of life.\\u201d\\xa0The findings revealed more about people\\u2019s employment and financial situations. They confirmed that the market for domestic workers appeared to regulate the flow of illegal workers to Geneva. Most were women responding to the local market\\u2019s demand for domestic help. Average monthly salaries varied from CHF1,600-2,800 ($1,607-2,813); the amounts were higher for those who had been regularised or had filed an application.\\xa0What happens after Papyrus?\\xa0While the university study, funded by the Swiss National Science Foundation, is set to continue over the next few years, all eyes are on the Papyrus project. The pilot scheme is due to end this year, and the authorities are expected to make an evaluation and official announcement in the coming weeks. But there is great uncertainty about what comes next and the situation for future requests for regularisation in Geneva.\\xa0\\u201cWe have great hope that something will continue and there are signs, but much depends on the new justice minister [Karin Keller-Sutter] in Bern,\\u201d said Remy Kammermann, a lawyer with the Protestant Social Centre.\\xa0Geneva has gone much further than other Swiss regions in assisting sans papiers. But there have been important developments in a few cantons.\\xa0Last month, Zurich\\u2019s city parliament voted to introduce identity cards for all residents, including those who are in the country illegally.\\xa0The city council, which had opposed the idea, now has two years to draft a bill to this effect.\\xa0\\xa0The so-called \\u201cZ\\xfcri City Card\\u201d would allow residents to identify themselves to the authorities, in particular the police. Supporters also want the card to allow holders access to public and private services without fear of arrest, as is done in New York.\\xa0Other cities, like the Swiss capital Bern, are also considering introducing a similar \\u201cCity Card\\u201d.\\xa0Meanwhile, Sunday\\u2019s Il Caffe newspaper reported that in the Italian-speaking canton of Ticino\\xa0a cantonal directive issued in August requires health professionals working for the cantonal health body (EOC) to \\u201csystematically indicate to the authorities any individuals without documentation, presumed to be asylum seekers, foreigners in transit or suspects who arrive at emergency wards alone or by ambulance\\u201d.\\xa0Cristina Oberholzer Casartelli, director of the Office for Social Support and Integration, which is behind the measure \\u2013 unique to Ticino \\u2013 told Le Temps newspaper on Monday that it did not wish to interfere in medical activities, but that the instruction was for administrative and accounting purposes to \\u201cfacilitate the issuing of bills for health services provided by EOC\\u201d.\\xa0However, local doctors and health officials have expressed serious concerns about the aims of the directive, stating that a doctor\\u2019s role is to look after patients and not to denounce those who may be illegal immigrants.\\xa0National censusThe most recent comprehensive study by the State Secretariat for Migration found that in 2015 there were 76,000 undocumented migrants in Switzerland, of whom 12% were minors. Almost half are believed to reside in four cantons: Zurich (28,000), Fribourg (20,000), Geneva (13,000) and Vaud (12,000).\\xa0In all, 43% were from Latin America, mostly Ecuador, Bolivia and Brazil. Some 24% came from European countries outside the European Union and the European Free Trade Area (EFTA), including many from the former Yugoslavia. Others came from Africa (19%) and Asia (11%).\\xa0Most undocumented migrants work in domestic jobs, construction, hospitality and agriculture.\\xa0The study showed that 19% of them had lived in Switzerland for over ten years, 35% for five to ten years, 25% for less than five years and 21% for less than a year.\\xa0\\xa0       Operation Papyrus  A new life for 1,000 illegal immigrants in Geneva              Sign up for our free newsletters and get the top stories delivered to your inbox.   #mc_embed_signup div.response { margin: 1em 0; padding: 1em .5em .5em 0; font-weight: bold; float: left; top: -1.5em; z-index: 1; width: 80%;} label { display: inline; }   /* Add your own MailChimp form style overrides in your site stylesheet or in this style block. We recommend moving this block and the preceding CSS link to the HEAD of your HTML file. */      Email address     Top stories (weekly) Latest news (daily) Business (weekly) Politics (weekly) Society (weekly) Fintech (biweekly) Multinationals (biweekly) Click here to see more newsletters             (function($) {window.fnames = new Array(); window.ftypes = new Array();fnames[0]=\\'EMAIL\\';ftypes[0]=\\'email\\';fnames[1]=\\'FNAME\\';ftypes[1]=\\'text\\';fnames[2]=\\'LNAME\\';ftypes[2]=\\'text\\';}(jQuery));var $mcj = jQuery.noConflict(true);      ',\n",
       " 'url': u'https://www.swissinfo.ch/eng/society/living-underground_study-examines-health-of-geneva-s-undocumented-migrants/44623632'}"
      ]
     },
     "execution_count": 42,
     "metadata": {},
     "output_type": "execute_result"
    }
   ],
   "source": [
    "items[0]"
   ]
  },
  {
   "cell_type": "code",
   "execution_count": 48,
   "metadata": {},
   "outputs": [],
   "source": [
    "from nltk.tokenize import sent_tokenize\n",
    "split_items = []\n",
    "for item in items:    \n",
    "    sent_tokenize_list = sent_tokenize(item[\"text\"])\n",
    "    for text in sent_tokenize_list:\n",
    "        split_items.append({\"id\": item[\"id\"], \"url\": item[\"url\"], \"tag\": item[\"tag\"], \"text\": text.encode(\"utf-8\")})\n"
   ]
  },
  {
   "cell_type": "code",
   "execution_count": 49,
   "metadata": {
    "hideCode": false,
    "hidePrompt": false
   },
   "outputs": [
    {
     "data": {
      "text/html": [
       "<div>\n",
       "<style scoped>\n",
       "    .dataframe tbody tr th:only-of-type {\n",
       "        vertical-align: middle;\n",
       "    }\n",
       "\n",
       "    .dataframe tbody tr th {\n",
       "        vertical-align: top;\n",
       "    }\n",
       "\n",
       "    .dataframe thead th {\n",
       "        text-align: right;\n",
       "    }\n",
       "</style>\n",
       "<table border=\"1\" class=\"dataframe\">\n",
       "  <thead>\n",
       "    <tr style=\"text-align: right;\">\n",
       "      <th></th>\n",
       "      <th>id</th>\n",
       "      <th>tag</th>\n",
       "      <th>text</th>\n",
       "      <th>url</th>\n",
       "    </tr>\n",
       "  </thead>\n",
       "  <tbody>\n",
       "    <tr>\n",
       "      <th>0</th>\n",
       "      <td>44623632</td>\n",
       "      <td>Society</td>\n",
       "      <td>Study examines health of Geneva’s undocume...</td>\n",
       "      <td>https://www.swissinfo.ch/eng/society/living-un...</td>\n",
       "    </tr>\n",
       "    <tr>\n",
       "      <th>1</th>\n",
       "      <td>44623632</td>\n",
       "      <td>Society</td>\n",
       "      <td>The initial results of a four-year study into ...</td>\n",
       "      <td>https://www.swissinfo.ch/eng/society/living-un...</td>\n",
       "    </tr>\n",
       "    <tr>\n",
       "      <th>2</th>\n",
       "      <td>44623632</td>\n",
       "      <td>Society</td>\n",
       "      <td>Around 76,000 illegal immigrants are believed ...</td>\n",
       "      <td>https://www.swissinfo.ch/eng/society/living-un...</td>\n",
       "    </tr>\n",
       "    <tr>\n",
       "      <th>3</th>\n",
       "      <td>44623632</td>\n",
       "      <td>Society</td>\n",
       "      <td>Of these, canton Geneva is home to 13,000.</td>\n",
       "      <td>https://www.swissinfo.ch/eng/society/living-un...</td>\n",
       "    </tr>\n",
       "    <tr>\n",
       "      <th>4</th>\n",
       "      <td>44623632</td>\n",
       "      <td>Society</td>\n",
       "      <td>In 2015, the local and federal authorities lau...</td>\n",
       "      <td>https://www.swissinfo.ch/eng/society/living-un...</td>\n",
       "    </tr>\n",
       "  </tbody>\n",
       "</table>\n",
       "</div>"
      ],
      "text/plain": [
       "         id      tag                                               text  \\\n",
       "0  44623632  Society      Study examines health of Geneva’s undocume...   \n",
       "1  44623632  Society  The initial results of a four-year study into ...   \n",
       "2  44623632  Society  Around 76,000 illegal immigrants are believed ...   \n",
       "3  44623632  Society         Of these, canton Geneva is home to 13,000.   \n",
       "4  44623632  Society  In 2015, the local and federal authorities lau...   \n",
       "\n",
       "                                                 url  \n",
       "0  https://www.swissinfo.ch/eng/society/living-un...  \n",
       "1  https://www.swissinfo.ch/eng/society/living-un...  \n",
       "2  https://www.swissinfo.ch/eng/society/living-un...  \n",
       "3  https://www.swissinfo.ch/eng/society/living-un...  \n",
       "4  https://www.swissinfo.ch/eng/society/living-un...  "
      ]
     },
     "execution_count": 49,
     "metadata": {},
     "output_type": "execute_result"
    }
   ],
   "source": [
    "df = pd.DataFrame(split_items)\n",
    "df.head()"
   ]
  },
  {
   "cell_type": "code",
   "execution_count": 50,
   "metadata": {
    "hideCode": false,
    "hidePrompt": false
   },
   "outputs": [
    {
     "data": {
      "text/plain": [
       "2800"
      ]
     },
     "execution_count": 50,
     "metadata": {},
     "output_type": "execute_result"
    }
   ],
   "source": [
    "len(df)"
   ]
  },
  {
   "cell_type": "markdown",
   "metadata": {
    "hideCode": false,
    "hidePrompt": false
   },
   "source": [
    "# Prepare categories"
   ]
  },
  {
   "cell_type": "code",
   "execution_count": 51,
   "metadata": {
    "hideCode": false,
    "hidePrompt": false
   },
   "outputs": [
    {
     "data": {
      "text/html": [
       "<div>\n",
       "<style scoped>\n",
       "    .dataframe tbody tr th:only-of-type {\n",
       "        vertical-align: middle;\n",
       "    }\n",
       "\n",
       "    .dataframe tbody tr th {\n",
       "        vertical-align: top;\n",
       "    }\n",
       "\n",
       "    .dataframe thead th {\n",
       "        text-align: right;\n",
       "    }\n",
       "</style>\n",
       "<table border=\"1\" class=\"dataframe\">\n",
       "  <thead>\n",
       "    <tr style=\"text-align: right;\">\n",
       "      <th></th>\n",
       "      <th>id</th>\n",
       "      <th>tag</th>\n",
       "      <th>text</th>\n",
       "      <th>url</th>\n",
       "      <th>code</th>\n",
       "    </tr>\n",
       "  </thead>\n",
       "  <tbody>\n",
       "    <tr>\n",
       "      <th>0</th>\n",
       "      <td>44623632</td>\n",
       "      <td>Society</td>\n",
       "      <td>Study examines health of Geneva’s undocume...</td>\n",
       "      <td>https://www.swissinfo.ch/eng/society/living-un...</td>\n",
       "      <td>11</td>\n",
       "    </tr>\n",
       "    <tr>\n",
       "      <th>1</th>\n",
       "      <td>44560650</td>\n",
       "      <td>Sci &amp; Tech</td>\n",
       "      <td>How scientists are redefining success - SW...</td>\n",
       "      <td>https://www.swissinfo.ch/eng/sci-tech/publish-...</td>\n",
       "      <td>10</td>\n",
       "    </tr>\n",
       "    <tr>\n",
       "      <th>2</th>\n",
       "      <td>44623996</td>\n",
       "      <td>Politics</td>\n",
       "      <td>COP24: Text adopted, ambitions abandoned -...</td>\n",
       "      <td>https://www.swissinfo.ch/eng/politics/opinion_...</td>\n",
       "      <td>9</td>\n",
       "    </tr>\n",
       "    <tr>\n",
       "      <th>3</th>\n",
       "      <td>44623032</td>\n",
       "      <td>Health</td>\n",
       "      <td>Novartis weighs reinsurance tie-up to fund...</td>\n",
       "      <td>https://www.swissinfo.ch/eng/business/reinsura...</td>\n",
       "      <td>7</td>\n",
       "    </tr>\n",
       "    <tr>\n",
       "      <th>4</th>\n",
       "      <td>44618048</td>\n",
       "      <td>Society</td>\n",
       "      <td>‘Being Swiss is an essential part of my id...</td>\n",
       "      <td>https://www.swissinfo.ch/eng/society/-weareswi...</td>\n",
       "      <td>11</td>\n",
       "    </tr>\n",
       "  </tbody>\n",
       "</table>\n",
       "</div>"
      ],
      "text/plain": [
       "         id         tag                                               text  \\\n",
       "0  44623632     Society      Study examines health of Geneva’s undocume...   \n",
       "1  44560650  Sci & Tech      How scientists are redefining success - SW...   \n",
       "2  44623996    Politics      COP24: Text adopted, ambitions abandoned -...   \n",
       "3  44623032      Health      Novartis weighs reinsurance tie-up to fund...   \n",
       "4  44618048     Society      ‘Being Swiss is an essential part of my id...   \n",
       "\n",
       "                                                 url  code  \n",
       "0  https://www.swissinfo.ch/eng/society/living-un...    11  \n",
       "1  https://www.swissinfo.ch/eng/sci-tech/publish-...    10  \n",
       "2  https://www.swissinfo.ch/eng/politics/opinion_...     9  \n",
       "3  https://www.swissinfo.ch/eng/business/reinsura...     7  \n",
       "4  https://www.swissinfo.ch/eng/society/-weareswi...    11  "
      ]
     },
     "execution_count": 51,
     "metadata": {},
     "output_type": "execute_result"
    }
   ],
   "source": [
    "df = pd.DataFrame(items)\n",
    "df[\"text\"] = df[\"text\"].str#.encode('utf-8')\n",
    "df[\"tag\"] = df[\"tag\"].str#.encode('utf-8')\n",
    "df[\"tag\"] = pd.Categorical(df[\"tag\"])\n",
    "df['code'] = df[\"tag\"].cat.codes\n",
    "df.head()"
   ]
  },
  {
   "cell_type": "code",
   "execution_count": 59,
   "metadata": {},
   "outputs": [
    {
     "data": {
      "text/plain": [
       "{0: '',\n",
       " 1: 'Business',\n",
       " 2: 'Culture',\n",
       " 3: 'Direct democracy',\n",
       " 4: 'Education',\n",
       " 5: 'Environment',\n",
       " 6: 'Foreign Affairs',\n",
       " 7: 'Health',\n",
       " 8: 'Human interest',\n",
       " 9: 'Politics',\n",
       " 10: 'Sci & Tech',\n",
       " 11: 'Society',\n",
       " 12: 'Work'}"
      ]
     },
     "execution_count": 59,
     "metadata": {},
     "output_type": "execute_result"
    }
   ],
   "source": [
    "dict( enumerate(df['tag'].cat.categories) )"
   ]
  },
  {
   "cell_type": "markdown",
   "metadata": {
    "hideCode": false,
    "hidePrompt": false
   },
   "source": [
    "## Prepare data for training"
   ]
  },
  {
   "cell_type": "code",
   "execution_count": 53,
   "metadata": {
    "hideCode": false,
    "hidePrompt": false
   },
   "outputs": [],
   "source": [
    "import json\n",
    "from pathlib import Path\n",
    "import re\n",
    "import random\n",
    "\n",
    "training_data = Path(\"fasttext_dataset_training.txt\")\n",
    "test_data = Path(\"fasttext_dataset_test.txt\")\n",
    "\n",
    "# What percent of data to save separately as test data\n",
    "percent_test_data = 0.10\n",
    "\n",
    "\n",
    "def strip_formatting(string):\n",
    "    string = string.lower()\n",
    "    string = re.sub(r\"([.!?,'/()])\", r\" \\1 \", string)\n",
    "    return string\n",
    "\n",
    "with training_data.open(\"w\") as train_output, \\\n",
    "     test_data.open(\"w\") as test_output:\n",
    "\n",
    "    for i,item in df.iterrows():\n",
    "        #print(item)\n",
    "        if (item[\"tag\"] != \"\") & (item[\"text\"] != \"\"):\n",
    "            tag = item[\"code\"]\n",
    "            text = item[\"text\"].replace(\"\\n\", \" \")\n",
    "            text = strip_formatting(text)\n",
    "\n",
    "            fasttext_line = unicode(\"__label__{} {}\".format(tag, text),'utf-8')\n",
    "\n",
    "            if random.random() <= percent_test_data:\n",
    "                test_output.write(fasttext_line + \"\\n\")\n",
    "            else:\n",
    "                train_output.write(fasttext_line + \"\\n\")\n"
   ]
  },
  {
   "cell_type": "markdown",
   "metadata": {
    "hideCode": false,
    "hidePrompt": false
   },
   "source": [
    "# Train"
   ]
  },
  {
   "cell_type": "code",
   "execution_count": 54,
   "metadata": {
    "hideCode": false,
    "hidePrompt": false
   },
   "outputs": [],
   "source": [
    "!fasttext supervised -input fasttext_dataset_training.txt -output category_model "
   ]
  },
  {
   "cell_type": "markdown",
   "metadata": {
    "hideCode": false,
    "hidePrompt": false
   },
   "source": [
    "# Test"
   ]
  },
  {
   "cell_type": "code",
   "execution_count": 55,
   "metadata": {
    "hideCode": false,
    "hidePrompt": false
   },
   "outputs": [],
   "source": [
    "!fasttext test category_model.bin fasttext_dataset_test.txt"
   ]
  },
  {
   "cell_type": "markdown",
   "metadata": {
    "hideCode": false,
    "hidePrompt": false
   },
   "source": [
    "## Predict"
   ]
  },
  {
   "cell_type": "code",
   "execution_count": 57,
   "metadata": {
    "hideCode": false,
    "hidePrompt": false
   },
   "outputs": [
    {
     "ename": "ValueError",
     "evalue": "fastText: trained model cannot be opened!",
     "output_type": "error",
     "traceback": [
      "\u001b[0;31m---------------------------------------------------------------------------\u001b[0m",
      "\u001b[0;31mValueError\u001b[0m                                Traceback (most recent call last)",
      "\u001b[0;32m<ipython-input-57-01f8880b8559>\u001b[0m in \u001b[0;36m<module>\u001b[0;34m()\u001b[0m\n\u001b[1;32m     18\u001b[0m \u001b[0;34m\u001b[0m\u001b[0m\n\u001b[1;32m     19\u001b[0m \u001b[0;31m# Load the model\u001b[0m\u001b[0;34m\u001b[0m\u001b[0;34m\u001b[0m\u001b[0m\n\u001b[0;32m---> 20\u001b[0;31m \u001b[0mclassifier\u001b[0m \u001b[0;34m=\u001b[0m \u001b[0mfasttext\u001b[0m\u001b[0;34m.\u001b[0m\u001b[0mload_model\u001b[0m\u001b[0;34m(\u001b[0m\u001b[0;34m'reviews_model_ngrams.bin'\u001b[0m\u001b[0;34m)\u001b[0m\u001b[0;34m\u001b[0m\u001b[0m\n\u001b[0m\u001b[1;32m     21\u001b[0m \u001b[0;34m\u001b[0m\u001b[0m\n\u001b[1;32m     22\u001b[0m \u001b[0;31m# Get fastText to classify each review with the model\u001b[0m\u001b[0;34m\u001b[0m\u001b[0;34m\u001b[0m\u001b[0m\n",
      "\u001b[0;32mfasttext/fasttext.pyx\u001b[0m in \u001b[0;36mfasttext.fasttext.load_model\u001b[0;34m()\u001b[0m\n",
      "\u001b[0;31mValueError\u001b[0m: fastText: trained model cannot be opened!"
     ]
    }
   ],
   "source": [
    "import fasttext\n",
    "import re\n",
    "\n",
    "def strip_formatting(string):\n",
    "    string = string.lower()\n",
    "    string = re.sub(r\"([.!?,'/()])\", r\" \\1 \", string)\n",
    "    return string\n",
    "\n",
    "# Reviews to check\n",
    "reviews = [\n",
    "    \"This restaurant literally changed my life. This is the best food I've ever eaten!\",\n",
    "    \"I hate this place so much. They were mean to me.\",\n",
    "    \"I don't know. It was ok, I guess. Not really sure what to say.\",\n",
    "]\n",
    "\n",
    "# Pre-process the text of each review so it matches the training format\n",
    "preprocessed_reviews = list(map(strip_formatting, reviews))\n",
    "\n",
    "# Load the model\n",
    "classifier = fasttext.load_model('reviews_model_ngrams.bin')\n",
    "\n",
    "# Get fastText to classify each review with the model\n",
    "labels, probabilities = classifier.predict(preprocessed_reviews, 1)\n",
    "\n",
    "# Print the results\n",
    "for review, label, probability in zip(reviews, labels, probabilities):\n",
    "    stars = int(label[0][-1])\n",
    "\n",
    "    print(\"{} ({}% confidence)\".format(\"*\" * stars, int(probability[0] * 100)))\n",
    "    print(review)\n",
    "    print()\n",
    "\n"
   ]
  },
  {
   "cell_type": "code",
   "execution_count": null,
   "metadata": {},
   "outputs": [],
   "source": []
  }
 ],
 "metadata": {
  "hide_code_all_hidden": false,
  "kernelspec": {
   "display_name": "Python 3",
   "language": "python",
   "name": "python3"
  },
  "language_info": {
   "codemirror_mode": {
    "name": "ipython",
    "version": 2
   },
   "file_extension": ".py",
   "mimetype": "text/x-python",
   "name": "python",
   "nbconvert_exporter": "python",
   "pygments_lexer": "ipython2",
   "version": "2.7.10"
  }
 },
 "nbformat": 4,
 "nbformat_minor": 2
}

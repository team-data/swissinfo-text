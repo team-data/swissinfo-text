{
 "cells": [
  {
   "cell_type": "markdown",
   "metadata": {},
   "source": [
    "# Clustering content for Swissinfo\n",
    "- Clustering\n",
    "    - Once we have a similarity of articles on a textual level we can cluster the content on the homepage based not on rubriken or tags but the actual similarity. "
   ]
  },
  {
   "cell_type": "markdown",
   "metadata": {},
   "source": [
    "# Get articles from front page"
   ]
  },
  {
   "cell_type": "code",
   "execution_count": 2,
   "metadata": {},
   "outputs": [],
   "source": [
    "import requests\n",
    "from bs4 import BeautifulSoup"
   ]
  },
  {
   "cell_type": "code",
   "execution_count": 4,
   "metadata": {},
   "outputs": [
    {
     "name": "stdout",
     "output_type": "stream",
     "text": [
      "Done: /webservice/swi-eng-2.0/detail/42579872/44595620\n",
      "Done: /webservice/swi-eng-2.0/detail/42579872/44603054\n",
      "Done: /webservice/swi-eng-2.0/gallery/42579876/44592598\n",
      "Done: /webservice/swi-eng-2.0/detail/42579872/44602420\n",
      "Done: /webservice/swi-eng-2.0/video/42579874/44577612\n",
      "Done: /webservice/swi-eng-2.0/detail/42579872/44601990\n",
      "Done: /webservice/swi-eng-2.0/detail/42579872/44603100\n",
      "Done: /webservice/swi-eng-2.0/detail/42579872/44600416\n",
      "Done: /webservice/swi-eng-2.0/video/42579874/44599364\n",
      "Done: /webservice/swi-eng-2.0/detail/42579872/44601712\n",
      "Done: /webservice/swi-eng-2.0/detail/42579872/44597062\n",
      "Done: /webservice/swi-eng-2.0/video/42579874/44572920\n",
      "Done: /webservice/swi-eng-2.0/detail/42579872/44591246\n",
      "Done: /webservice/swi-eng-2.0/detail/42579872/44599910\n",
      "Done: /webservice/swi-eng-2.0/detail/42579872/44596456\n",
      "Done: /webservice/swi-eng-2.0/detail/42579872/44598416\n",
      "Done: /webservice/swi-eng-2.0/detail/42579872/44594062\n",
      "Done: /webservice/swi-eng-2.0/detail/42579872/44595810\n",
      "Done: /webservice/swi-eng-2.0/detail/42579872/44590274\n",
      "Done: /webservice/swi-eng-2.0/detail/42579872/44592984\n",
      "Done: /webservice/swi-eng-2.0/detail/42579872/44580432\n",
      "Done: /webservice/swi-eng-2.0/detail/42579872/44585848\n",
      "Done: /webservice/swi-eng-2.0/detail/42579872/44591156\n",
      "Done: /webservice/swi-eng-2.0/video/42579874/44580876\n",
      "Done: /webservice/swi-eng-2.0/detail/42579872/44574988\n",
      "Done: /webservice/swi-eng-2.0/detail/42579872/44581536\n",
      "Done: /webservice/swi-eng-2.0/detail/42579872/44584728\n",
      "Done: /webservice/swi-eng-2.0/detail/42579872/44582900\n",
      "Done: /webservice/swi-eng-2.0/gallery/42579876/44581590\n",
      "Done: /webservice/swi-eng-2.0/detail/42579872/44545372\n",
      "Done: /webservice/swi-eng-2.0/detail/42579872/44584702\n",
      "Done: /webservice/swi-eng-2.0/detail/42579872/44575618\n",
      "Done: /webservice/swi-eng-2.0/detail/42579872/44579626\n",
      "Done: /webservice/swi-eng-2.0/video/42579874/44560608\n",
      "Done: /webservice/swi-eng-2.0/detail/42579872/44580358\n",
      "Done: /webservice/swi-eng-2.0/detail/42579872/44577084\n",
      "Done: /webservice/swi-eng-2.0/detail/42579872/44571990\n",
      "Done: /webservice/swi-eng-2.0/detail/42579872/44577476\n",
      "Done: /webservice/swi-eng-2.0/detail/42579872/44566618\n",
      "Done: /webservice/swi-eng-2.0/video/42579874/44575322\n",
      "Done: /webservice/swi-eng-2.0/detail/42579872/44566000\n",
      "Done: /webservice/swi-eng-2.0/detail/42579872/44575252\n",
      "Done: /webservice/swi-eng-2.0/detail/42579872/44567162\n",
      "Done: /webservice/swi-eng-2.0/detail/42579872/44559238\n",
      "Done: /webservice/swi-eng-2.0/detail/42579872/44572816\n",
      "Done: /webservice/swi-eng-2.0/gallery/42579876/44572878\n",
      "Done: /webservice/swi-eng-2.0/detail/42579872/44564548\n",
      "Done: /webservice/swi-eng-2.0/detail/42579872/44551128\n",
      "Done: /webservice/swi-eng-2.0/gallery/42579876/44538252\n",
      "Done: /webservice/swi-eng-2.0/detail/42579872/44565850\n",
      "Done: /webservice/swi-eng-2.0/detail/42579872/44566772\n",
      "Done: /webservice/swi-eng-2.0/detail/42579872/44556092\n",
      "Done: /webservice/swi-eng-2.0/gallery/42579876/44566842\n",
      "Done: /webservice/swi-eng-2.0/detail/42579872/44562998\n",
      "Done: /webservice/swi-eng-2.0/detail/42579872/44550638\n",
      "Done: /webservice/swi-eng-2.0/detail/42579872/44563656\n",
      "Done: /webservice/swi-eng-2.0/video/42579874/44525724\n",
      "Done: /webservice/swi-eng-2.0/detail/42579872/44555198\n",
      "Done: /webservice/swi-eng-2.0/detail/42579872/44549662\n",
      "Done: /webservice/swi-eng-2.0/video/42579874/44561620\n",
      "Done: /webservice/swi-eng-2.0/detail/42579872/44560284\n",
      "Done: /webservice/swi-eng-2.0/detail/42579872/44558946\n",
      "Done: /webservice/swi-eng-2.0/detail/42579872/44557772\n",
      "Done: /webservice/swi-eng-2.0/detail/42579872/44557704\n",
      "Done: /webservice/swi-eng-2.0/detail/42579872/44550596\n",
      "Done: /webservice/swi-eng-2.0/detail/42579872/44451960\n",
      "Done: /webservice/swi-eng-2.0/detail/42579872/44556442\n",
      "Done: /webservice/swi-eng-2.0/gallery/42579876/44555226\n",
      "Done: /webservice/swi-eng-2.0/gallery/42579876/44555544\n",
      "Done: /webservice/swi-eng-2.0/audio/42579870/44544894\n",
      "Done: /webservice/swi-eng-2.0/gallery/42579876/42219238\n",
      "Done: /webservice/swi-eng-2.0/gallery/42579876/44549934\n",
      "Done: /webservice/swi-eng-2.0/detail/42579872/44550302\n",
      "Done: /webservice/swi-eng-2.0/detail/42579872/44547682\n",
      "Done: /webservice/swi-eng-2.0/detail/42579872/44550612\n",
      "Done: /webservice/swi-eng-2.0/detail/42579872/44549646\n",
      "Done: /webservice/swi-eng-2.0/video/42579874/44508756\n",
      "Done: /webservice/swi-eng-2.0/detail/42579872/44538152\n",
      "Done: /webservice/swi-eng-2.0/detail/42579872/44547834\n",
      "Done: /webservice/swi-eng-2.0/detail/42579872/44544152\n",
      "Done: /webservice/swi-eng-2.0/detail/42579872/44543634\n",
      "Done: /webservice/swi-eng-2.0/detail/42579872/44544814\n",
      "Done: /webservice/swi-eng-2.0/detail/42579872/44532880\n",
      "Done: /webservice/swi-eng-2.0/detail/42579872/44533252\n",
      "Done: /webservice/swi-eng-2.0/video/42579874/44533192\n",
      "Done: /webservice/swi-eng-2.0/detail/42579872/44531226\n",
      "Done: /webservice/swi-eng-2.0/detail/42579872/44537890\n",
      "Done: /webservice/swi-eng-2.0/detail/42579872/44531338\n",
      "Done: /webservice/swi-eng-2.0/detail/42579872/44533348\n",
      "Done: /webservice/swi-eng-2.0/detail/42579872/44531512\n",
      "Done: /webservice/swi-eng-2.0/video/42579874/44533938\n",
      "Done: /webservice/swi-eng-2.0/detail/42579872/44533964\n",
      "Done: /webservice/swi-eng-2.0/detail/42579872/44521878\n",
      "Done: /webservice/swi-eng-2.0/detail/42579872/44465000\n",
      "Done: /webservice/swi-eng-2.0/detail/42579872/44533158\n"
     ]
    }
   ],
   "source": [
    "# Get 100 Frontpage Items\n",
    "frontpage_url = \"https://www.swissinfo.ch/webservice/swi-eng-2.0/overview\"\n",
    "r = requests.get(frontpage_url).json()\n",
    "items = []\n",
    "urls = []\n",
    "for item in r[\"page\"][\"item\"][0][\"content\"]:\n",
    "    try:\n",
    "        tmp = requests.get(\"https://www.swissinfo.ch/webservice/swi-eng-2.0/detail%s\" % item[\"url\"])\n",
    "        text = BeautifulSoup(tmp.json()[\"htmldetail\"], \"lxml\").get_text()\n",
    "        items.append(text)\n",
    "        urls.append(item[\"canonical\"])\n",
    "        print(\"Done: %s\" % item[\"url\"])\n",
    "    except:\n",
    "        pass"
   ]
  },
  {
   "cell_type": "code",
   "execution_count": 5,
   "metadata": {},
   "outputs": [
    {
     "data": {
      "text/plain": [
       "u'    Brexit satire, yodelling and legal limbo - SWI swissinfo.ch             (\\xa9 KEYSTONE / URS FLUEELER)       These are the stories we\\u2019ll be bringing you the week of December 10, 2018.MondaySwitzerland\\u2019s government recently made the controversial decision to table signing the United Nations\\u2019 Global '"
      ]
     },
     "execution_count": 5,
     "metadata": {},
     "output_type": "execute_result"
    }
   ],
   "source": [
    "items[1][0:300]"
   ]
  },
  {
   "cell_type": "code",
   "execution_count": 6,
   "metadata": {},
   "outputs": [
    {
     "data": {
      "text/plain": [
       "u'https://www.swissinfo.ch/eng/society/the-week-ahead_brexit-satire--yodelling-and-legal-limbo/44603054'"
      ]
     },
     "execution_count": 6,
     "metadata": {},
     "output_type": "execute_result"
    }
   ],
   "source": [
    "urls[1]"
   ]
  },
  {
   "cell_type": "markdown",
   "metadata": {},
   "source": [
    "# Lets cluster the Data\n",
    "- Work tokenization\n",
    "- Stemming\n",
    "- Stopword removal\n",
    "- Clustering with k-means"
   ]
  },
  {
   "cell_type": "code",
   "execution_count": 7,
   "metadata": {},
   "outputs": [],
   "source": [
    "import collections\n",
    "from nltk import word_tokenize\n",
    "from nltk.corpus import stopwords\n",
    "from nltk.stem import PorterStemmer\n",
    "from sklearn.cluster import KMeans\n",
    "from sklearn.feature_extraction.text import TfidfVectorizer\n",
    "from pprint import pprint\n",
    "import seaborn as sns\n",
    "\n",
    "def word_tokenizer(text):\n",
    "        #tokenizes and stems the text\n",
    "        tokens = word_tokenize(text)\n",
    "        stemmer = PorterStemmer()\n",
    "        tokens = [stemmer.stem(t) for t in tokens if t not in stopwords.words('english')]\n",
    "        return tokens\n",
    "\n",
    "\n",
    "def cluster_items(items, nb_of_clusters=5,mds=False):\n",
    "        tfidf_vectorizer = TfidfVectorizer(tokenizer=word_tokenizer,\n",
    "                                        stop_words=stopwords.words('english'),\n",
    "                                        lowercase=True)\n",
    "        #builds a tf-idf matrix for the sentences\n",
    "        tfidf_matrix = tfidf_vectorizer.fit_transform(items)\n",
    "        \n",
    "        # Show matrix\n",
    "        pairwise_similarity = tfidf_matrix * tfidf_matrix.T\n",
    "        ax = sns.heatmap(pairwise_similarity.A)\n",
    "        ax.plot()\n",
    "        \n",
    "        # Clustering\n",
    "        kmeans = KMeans(n_clusters=nb_of_clusters)\n",
    "        kmeans.fit(tfidf_matrix)\n",
    "        clusters = collections.defaultdict(list)\n",
    "        for i, label in enumerate(kmeans.labels_):\n",
    "                clusters[label].append(i)\n",
    "        if mds:\n",
    "            return [pairwise_similarity,dict(clusters)]\n",
    "        else:\n",
    "            return dict(clusters)\n",
    "\n",
    "\n",
    "#items = [\"Nature is beautiful\",\"I like green apples\", \"We should protect the trees\",\"Fruit trees provide fruits\",\"Green apples are tasty\"]\n",
    "\n",
    "#nclusters= 3\n",
    "#parwise_similarity, clusters = cluster_items(items, nclusters,True)"
   ]
  },
  {
   "cell_type": "markdown",
   "metadata": {},
   "source": [
    "# Baby example: Lets see how it works"
   ]
  },
  {
   "cell_type": "markdown",
   "metadata": {},
   "source": [
    "How does the result look for:\n",
    "- 2 sentences with nature\n",
    "- 2 sentences with apple\n",
    "- 1 sentence with apple and nature\n",
    "- 1 sentence with computers"
   ]
  },
  {
   "cell_type": "code",
   "execution_count": 19,
   "metadata": {},
   "outputs": [
    {
     "data": {
      "image/png": "[encoded data removed]",
      "text/plain": [
       "<matplotlib.figure.Figure at 0x1228fa290>"
      ]
     },
     "metadata": {},
     "output_type": "display_data"
    }
   ],
   "source": [
    "nclusters = 3\n",
    "baby_items = [\"Nature is beautiful\",\n",
    "              \"We should protect nature\",\n",
    "              \"I like green apples\", \n",
    "              \"Green apples are tasty\",\n",
    "              \"Apples and nature are fun.\",\n",
    "              \"Technical sentence with computers.\"]\n",
    "result,clusters = cluster_items(baby_items,nclusters,True)"
   ]
  },
  {
   "cell_type": "code",
   "execution_count": 20,
   "metadata": {},
   "outputs": [
    {
     "data": {
      "text/plain": [
       "{0: [2, 3], 1: [0, 1], 2: [4, 5]}"
      ]
     },
     "execution_count": 20,
     "metadata": {},
     "output_type": "execute_result"
    }
   ],
   "source": [
    "clusters"
   ]
  },
  {
   "cell_type": "code",
   "execution_count": 21,
   "metadata": {},
   "outputs": [
    {
     "name": "stdout",
     "output_type": "stream",
     "text": [
      "cluster  0 :\n",
      "\titem  0 :  I like green apples\n",
      "\titem  1 :  Green apples are tasty\n",
      "cluster  1 :\n",
      "\titem  0 :  Nature is beautiful\n",
      "\titem  1 :  We should protect nature\n",
      "cluster  2 :\n",
      "\titem  0 :  Apples and nature are fun.\n",
      "\titem  1 :  Technical sentence with computers.\n"
     ]
    }
   ],
   "source": [
    "for cluster in range(nclusters):\n",
    "        print \"cluster \",cluster,\":\"\n",
    "        for i,item in enumerate(clusters[cluster]):\n",
    "                print \"\\titem \",i,\": \",baby_items[item]"
   ]
  },
  {
   "cell_type": "markdown",
   "metadata": {},
   "source": [
    "## Compute Clusters for Frontpage"
   ]
  },
  {
   "cell_type": "code",
   "execution_count": 24,
   "metadata": {},
   "outputs": [
    {
     "name": "stdout",
     "output_type": "stream",
     "text": [
      "cluster  0 :\n",
      "\turl  society :  global-warming_alpine-nations-struggle-to-confront-climate-change-together\n",
      "\turl  society :  the-week-ahead_brexit-satire--yodelling-and-legal-limbo\n",
      "\turl  multimedia :  santons-figuren-im-kloster-muri_a-french-touch-for-a-nativity-scene\n",
      "\turl  eng :  week-in-numbers_women-in-politics-and-battling-homophobia\n",
      "\turl  multimedia :  please-no-propaganda-_advertising-tries-to-reach-classrooms\n",
      "\turl  business :  switzerland-european-union_swiss-government-wants-public-consultation-on-eu-framework-deal\n",
      "\turl  politics :  direct-democracy-live_brexit--what-would-switzerland-do-\n",
      "\turl  politics :  cassis-on-human-rights_-the-more-we-take-democracies-for-granted--the-less-prepared-we-are-to-defend-them-\n",
      "\turl  multimedia :  making-music-_famous-swiss-orchestra-celebrates-its-centenary-\n",
      "\turl  politics :  opinion_swiss-regulation-of-commodity-trade-long-overdue\n",
      "\turl  eng :  opinion_swiss-commodity-traders-at-the-forefront-of-best-practices\n",
      "\turl  multimedia :  seven-wonders-of-switzerland_the-capital-of-the-helvetians\n",
      "\turl  sci-tech :  sensitive-research_a-special-relationship--the-us-military-and-swiss-universities\n",
      "\turl  politics :  federal-council_new-ministers--big-news-at-home--indifference-abroad\n",
      "\turl  politics :  portrait_two-women-for-government--who-are-switzerland-s-new-ministers-\n",
      "\turl  business :  let-s-make-a-deal_switzerland-faces-stark-choice-on-eu-integration-deal\n",
      "\turl  politics :  cabinet-elections_viola-amherd-elected-to-the-swiss-federal-council\n",
      "\turl  politics :  erweiterung-der-antirassismus-strafnorm_copy-of-schweiz-hat-neuen-gesetzesartikel-gegen-homophobie\n",
      "\turl  society :  climate-change_torrid-time-predicted-for-switzerland-by-2060\n",
      "\turl  business :  banking-in-britain_regulator-warns-banks-over-brexit-moves-out-of-city\n",
      "\turl  politics :  federal-council-elections_what-s-the-essence-of-modern-leadership-\n",
      "\turl  society :  opinion_racism-in-switzerland---an-african-american-expat-s-perspective\n",
      "\turl  business :  withholding-tax_switzerland-likes-to-tax-differently-from-europe\n",
      "\turl  multimedia :  crime-in-3d_solving-crimes-with-the-help-of-virtual-reality-\n",
      "\turl  society :  -weareswissabroad_-our-traditions-keep-us-united-and-define-us-\n",
      "\turl  sci-tech :  cop24_climate-talks-open-amid-post-paris-polemics\n",
      "\turl  eng :  week-in-numbers_-swiss-law-first---maudet-opponents-and-breweries\n",
      "\turl  eng :  compliance_how-do-traders-ensure-due-diligence-in-high-risk-countries-\n",
      "cluster  1 :\n",
      "\turl  society :  global-warming_alpine-nations-struggle-to-confront-climate-change-together\n",
      "\turl  society :  the-week-ahead_brexit-satire--yodelling-and-legal-limbo\n",
      "\turl  multimedia :  santons-figuren-im-kloster-muri_a-french-touch-for-a-nativity-scene\n",
      "\turl  eng :  week-in-numbers_women-in-politics-and-battling-homophobia\n",
      "\turl  multimedia :  please-no-propaganda-_advertising-tries-to-reach-classrooms\n",
      "\turl  business :  switzerland-european-union_swiss-government-wants-public-consultation-on-eu-framework-deal\n",
      "\turl  politics :  direct-democracy-live_brexit--what-would-switzerland-do-\n",
      "\turl  politics :  cassis-on-human-rights_-the-more-we-take-democracies-for-granted--the-less-prepared-we-are-to-defend-them-\n",
      "\turl  multimedia :  making-music-_famous-swiss-orchestra-celebrates-its-centenary-\n",
      "\turl  politics :  opinion_swiss-regulation-of-commodity-trade-long-overdue\n",
      "\turl  eng :  opinion_swiss-commodity-traders-at-the-forefront-of-best-practices\n",
      "\turl  multimedia :  seven-wonders-of-switzerland_the-capital-of-the-helvetians\n",
      "\turl  sci-tech :  sensitive-research_a-special-relationship--the-us-military-and-swiss-universities\n",
      "\turl  politics :  federal-council_new-ministers--big-news-at-home--indifference-abroad\n",
      "\turl  politics :  portrait_two-women-for-government--who-are-switzerland-s-new-ministers-\n",
      "\turl  business :  let-s-make-a-deal_switzerland-faces-stark-choice-on-eu-integration-deal\n",
      "\turl  politics :  cabinet-elections_viola-amherd-elected-to-the-swiss-federal-council\n",
      "\turl  politics :  erweiterung-der-antirassismus-strafnorm_copy-of-schweiz-hat-neuen-gesetzesartikel-gegen-homophobie\n",
      "\turl  society :  climate-change_torrid-time-predicted-for-switzerland-by-2060\n",
      "\turl  business :  banking-in-britain_regulator-warns-banks-over-brexit-moves-out-of-city\n",
      "\turl  politics :  federal-council-elections_what-s-the-essence-of-modern-leadership-\n",
      "\turl  society :  opinion_racism-in-switzerland---an-african-american-expat-s-perspective\n",
      "\turl  business :  withholding-tax_switzerland-likes-to-tax-differently-from-europe\n",
      "\turl  multimedia :  crime-in-3d_solving-crimes-with-the-help-of-virtual-reality-\n",
      "\turl  society :  -weareswissabroad_-our-traditions-keep-us-united-and-define-us-\n",
      "\turl  sci-tech :  cop24_climate-talks-open-amid-post-paris-polemics\n",
      "\turl  eng :  week-in-numbers_-swiss-law-first---maudet-opponents-and-breweries\n",
      "\turl  eng :  compliance_how-do-traders-ensure-due-diligence-in-high-risk-countries-\n",
      "\turl  multimedia :  fahr-convent_a-day-in-the-life-of-a-swiss-nun\n",
      "\turl  politics :  diplomacy-in-action_meet-the-swiss-woman-charged-with-bringing-peace-to-myanmar\n",
      "\turl  society :  smoking-and-alarms_fire-at-asylum-seeker-housing-calls-safety-into-question-\n",
      "\turl  society :  education-debate_how-much-tech-should-be-in-swiss-classrooms-\n",
      "\turl  business :  implant-files_swiss-implant-makers-come-under-the-microscope\n",
      "\turl  multimedia :  seven-wonders-of-switzerland_a-swiss-city-made-for-its-watchmakers\n",
      "\turl  business :  swiss-workforce_more-working-hours-for-women--easier-said-than-done\n",
      "\turl  politics :  geneva-talks_swiss-and-russian-foreign-ministers-to-meet-amid-spying-controversy\n",
      "\turl  culture :  harald-naegeli_let-us-spray--swiss-artist-given-permission-to-graffiti-church\n",
      "\turl  politics :  -federal-city-_why-is-bern-the-capital-of-switzerland-\n",
      "\turl  society :  female-friendly-guest-house_-we-want-to-give-women-a-home--\n",
      "\turl  multimedia :  space-mission_swiss-electronics-to-take-mars--pulse\n",
      "\turl  culture :  crime-and-restitution_swiss-make-slow-progress-returning-nazi-looted-art\n",
      "\turl  directdemocracy :  social-detectives_do-the-swiss-have-a-weakness-for-surveillance-\n",
      "\turl  society :  biosimilars---biologics_medicines--is-switzerland-too-rich-to-save-money-\n",
      "\turl  politics :  vote-november-25--2018_hotly-debated--swiss-law-first--initiative-awaits-public-verdict\n",
      "\turl  directdemocracy :  swiss-abroad_swiss-expats-clearly-reject--swiss-law-first--initiative\n",
      "\turl  multimedia :  karlheinz-weinberger_rebel-chic--a-swiss-view-of-a-post-war-generation\n",
      "\turl  politics :  november-25-vote_are-cows-with-horns-worth-a-bonus-for-the-swiss-\n",
      "\turl  politics :  vote-november-25--2018_voters-to-decide-the-fate-of--social-welfare-detectives--\n",
      "\turl  multimedia :  buendner-kunstmuseum-_gletscher--gefrorene-zeit---english-version-to-translate\n",
      "\turl  eng :  week-in-numbers_household-income--ancient-treasures-and-airbnb\n",
      "\turl  society :  istanbul-convention_-invest-money--to-stop-violence-against-women\n",
      "\turl  culture :  volumes-zurich_the-art-of-publishing-art-books--independently\n",
      "\turl  multimedia :  career-choice_how-young-swiss-choose-their-profession\n",
      "\turl  politics :  historic-vote-weekend_champions-league-finals-for-modern-direct-democracy\n",
      "cluster  2 :\n",
      "\turl  society :  global-warming_alpine-nations-struggle-to-confront-climate-change-together\n",
      "\turl  society :  the-week-ahead_brexit-satire--yodelling-and-legal-limbo\n",
      "\turl  multimedia :  santons-figuren-im-kloster-muri_a-french-touch-for-a-nativity-scene\n",
      "\turl  eng :  week-in-numbers_women-in-politics-and-battling-homophobia\n",
      "\turl  multimedia :  please-no-propaganda-_advertising-tries-to-reach-classrooms\n",
      "\turl  business :  switzerland-european-union_swiss-government-wants-public-consultation-on-eu-framework-deal\n",
      "\turl  politics :  direct-democracy-live_brexit--what-would-switzerland-do-\n",
      "\turl  politics :  cassis-on-human-rights_-the-more-we-take-democracies-for-granted--the-less-prepared-we-are-to-defend-them-\n",
      "\turl  multimedia :  making-music-_famous-swiss-orchestra-celebrates-its-centenary-\n",
      "\turl  politics :  opinion_swiss-regulation-of-commodity-trade-long-overdue\n",
      "\turl  eng :  opinion_swiss-commodity-traders-at-the-forefront-of-best-practices\n",
      "\turl  multimedia :  seven-wonders-of-switzerland_the-capital-of-the-helvetians\n",
      "\turl  sci-tech :  sensitive-research_a-special-relationship--the-us-military-and-swiss-universities\n"
     ]
    },
    {
     "data": {
      "image/png": "[encoded data removed]",
      "text/plain": [
       "<matplotlib.figure.Figure at 0x12285c310>"
      ]
     },
     "metadata": {},
     "output_type": "display_data"
    }
   ],
   "source": [
    "result,clusters = cluster_items(items,nclusters,True)\n",
    "for cluster in range(nclusters):\n",
    "        print \"cluster \",cluster,\":\"\n",
    "        for i,item in enumerate(clusters[cluster]):\n",
    "                print \"\\turl \",urls[i].split(\"/\")[-3],\": \",urls[i].split(\"/\")[-2]"
   ]
  },
  {
   "cell_type": "markdown",
   "metadata": {},
   "source": [
    "# Whats next?"
   ]
  },
  {
   "cell_type": "markdown",
   "metadata": {},
   "source": [
    "- Cluster homepage differntly ?\n",
    "- Share results with redakteure?\n",
    "- Offer a different clustering for the reader?\n",
    "- Offer alternative structure?"
   ]
  },
  {
   "cell_type": "code",
   "execution_count": null,
   "metadata": {},
   "outputs": [],
   "source": []
  }
 ],
 "metadata": {
  "kernelspec": {
   "display_name": "Python 3",
   "language": "python",
   "name": "python3"
  },
  "language_info": {
   "codemirror_mode": {
    "name": "ipython",
    "version": 2
   },
   "file_extension": ".py",
   "mimetype": "text/x-python",
   "name": "python",
   "nbconvert_exporter": "python",
   "pygments_lexer": "ipython2",
   "version": "2.7.15"
  }
 },
 "nbformat": 4,
 "nbformat_minor": 2
}

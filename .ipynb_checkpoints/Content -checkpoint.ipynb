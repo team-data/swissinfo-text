{
 "cells": [
  {
   "cell_type": "markdown",
   "metadata": {},
   "source": [
    "# What can be done with text?\n",
    "- Enrichment of existing text\n",
    "    - In order to enrich the text it would be cool to know which entities could \"lead\" somewhere like in rap genious. For this named entities recognition (NER) is a great fit.\n",
    "- Recommendation\n",
    "    - In order to make a recommendation where we don't have any data on the user, we can make it based on content of the actual text.  We can process the whole corpus and see which texts are \"close\" to each other because the use the same vocabulary. We can use this distance information to then"
   ]
  },
  {
   "cell_type": "markdown",
   "metadata": {},
   "source": [
    "# Get some Data first"
   ]
  },
  {
   "cell_type": "code",
   "execution_count": 7,
   "metadata": {},
   "outputs": [],
   "source": [
    "import requests\n",
    "from bs4 import BeautifulSoup"
   ]
  },
  {
   "cell_type": "code",
   "execution_count": 8,
   "metadata": {},
   "outputs": [],
   "source": [
    "# frontpage_url = \"http://www.swissinfo.ch/webservice/swi-eng-2.0/overview\"\n",
    "r = requests.get('https://www.swissinfo.ch/webservice/chatbotize-eng-2.0/detail/44571672/29191706')"
   ]
  },
  {
   "cell_type": "code",
   "execution_count": 9,
   "metadata": {},
   "outputs": [
    {
     "data": {
      "text/plain": [
       "u'    Work permits - SWI swissinfo.ch      Obtaining a permit to work in Switzerland depends on many factors, including where you are from, the skills you have and quotas.Switzerland has a dual system for allowing foreigners to work while in the country. The first concerns citizens from the European Union and/or the European Free Trade Association (EFTA), who are generally allowed to come to Switzerland for three months while they look for work. The period can be extended to six months during an a'"
      ]
     },
     "execution_count": 9,
     "metadata": {},
     "output_type": "execute_result"
    }
   ],
   "source": [
    "text = BeautifulSoup(r.json()[\"htmldetail\"], \"lxml\").get_text()\n",
    "text[0:500]"
   ]
  },
  {
   "cell_type": "markdown",
   "metadata": {},
   "source": [
    "# Named Entities Recognition"
   ]
  },
  {
   "cell_type": "code",
   "execution_count": 1,
   "metadata": {},
   "outputs": [],
   "source": [
    "from nltk import ne_chunk, pos_tag, word_tokenize\n",
    "from nltk.tree import Tree\n",
    "\n",
    "def get_continuous_chunks(text):\n",
    "    chunked = ne_chunk(pos_tag(word_tokenize(text)))\n",
    "    prev = None\n",
    "    continuous_chunk = []\n",
    "    current_chunk = []\n",
    "\n",
    "    for i in chunked:\n",
    "        if type(i) == Tree:\n",
    "            current_chunk.append(\" \".join([token for token, pos in i.leaves()]))\n",
    "        elif current_chunk:\n",
    "            named_entity = \" \".join(current_chunk)\n",
    "            if named_entity not in continuous_chunk:\n",
    "                continuous_chunk.append(named_entity)\n",
    "                current_chunk = []\n",
    "        else:\n",
    "            continue\n",
    "    if current_chunk:\n",
    "        named_entity = \" \".join(current_chunk)\n",
    "        if named_entity not in continuous_chunk:\n",
    "            continuous_chunk.append(named_entity)\n",
    "            current_chunk = []\n",
    "    return continuous_chunk"
   ]
  },
  {
   "cell_type": "code",
   "execution_count": 4,
   "metadata": {},
   "outputs": [
    {
     "data": {
      "text/plain": [
       "['Johan Meier', 'Deutschland', 'Forschungsabteilung']"
      ]
     },
     "execution_count": 4,
     "metadata": {},
     "output_type": "execute_result"
    }
   ],
   "source": [
    "r = get_continuous_chunks(\"Johan Meier kommt aus Deutschland und arbeitet bei der Forschungsabteilung von Microsoft\")\n",
    "r"
   ]
  },
  {
   "cell_type": "code",
   "execution_count": 11,
   "metadata": {},
   "outputs": [
    {
     "data": {
      "text/plain": [
       "[u'Work',\n",
       " u'SWI',\n",
       " u'Switzerland',\n",
       " u'European Union',\n",
       " u'European Free Trade Association',\n",
       " u'EFTA',\n",
       " u'Switzerland Switzerland',\n",
       " u'United Kingdom',\n",
       " u'European Union EU',\n",
       " u'Brexit',\n",
       " u'British',\n",
       " u'Switzerland.More',\n",
       " u'Switzerland Switzerland Switzerland',\n",
       " u'Switzerland State',\n",
       " u'Migration',\n",
       " u'Switzerland State Bulgaria',\n",
       " u'Romania',\n",
       " u'Switzerland Swiss',\n",
       " u'Romanian',\n",
       " u'Bulgarian',\n",
       " u'Croatian',\n",
       " u'Swiss',\n",
       " u'Swiss Switzerland',\n",
       " u'State',\n",
       " u'Migration Switzerland',\n",
       " u'State Migration',\n",
       " u'SEM',\n",
       " u'Renewal',\n",
       " u'Swiss Switzerland Non',\n",
       " u'Switzerland Switzerland Swiss']"
      ]
     },
     "execution_count": 11,
     "metadata": {},
     "output_type": "execute_result"
    }
   ],
   "source": [
    "get_continuous_chunks(text)[0:30]"
   ]
  },
  {
   "cell_type": "markdown",
   "metadata": {},
   "source": [
    "# See which articles are similar on Front Page"
   ]
  },
  {
   "cell_type": "code",
   "execution_count": 50,
   "metadata": {},
   "outputs": [],
   "source": [
    "frontpage_url = \"https://www.swissinfo.ch/webservice/swi-eng-2.0/overview\"\n",
    "r = requests.get(frontpage_url).json()"
   ]
  },
  {
   "cell_type": "code",
   "execution_count": 65,
   "metadata": {},
   "outputs": [],
   "source": [
    "#r[\"page\"][\"item\"][0][\"content\"][0]"
   ]
  },
  {
   "cell_type": "code",
   "execution_count": 63,
   "metadata": {},
   "outputs": [],
   "source": [
    "items = []\n",
    "urls = []\n",
    "for item in r[\"page\"][\"item\"][0][\"content\"]:\n",
    "    try:\n",
    "        tmp = requests.get(\"https://www.swissinfo.ch/webservice/chatbotize-eng-2.0/detail%s\" % item[\"url\"])\n",
    "        text = BeautifulSoup(tmp.json()[\"htmldetail\"], \"lxml\").get_text()\n",
    "        items.append(text)\n",
    "        urls.append(item[\"canonical\"])\n",
    "        #print(\"Done: %s\" % item[\"url\"])\n",
    "    except:\n",
    "        pass"
   ]
  },
  {
   "cell_type": "code",
   "execution_count": 60,
   "metadata": {},
   "outputs": [
    {
     "data": {
      "text/plain": [
       "u'    Viola Amherd and Karin Keller-Sutter elected to government  - SWI swissinfo.ch             Viola Amherd (left) and Karin Keller-Sutter are sworn in as cabinet ministers(Keystone)       Viola Amherd and Karin Keller-Sutter have been chosen by parliament to join Switzerland\\u2019s seven-person executiv'"
      ]
     },
     "execution_count": 60,
     "metadata": {},
     "output_type": "execute_result"
    }
   ],
   "source": [
    "items[1][0:300]"
   ]
  },
  {
   "cell_type": "code",
   "execution_count": 64,
   "metadata": {},
   "outputs": [
    {
     "data": {
      "text/plain": [
       "u'https://www.swissinfo.ch/eng/politics/cabinet-elections_viola-amherd-elected-to-the-swiss-federal-council/44594062'"
      ]
     },
     "execution_count": 64,
     "metadata": {},
     "output_type": "execute_result"
    }
   ],
   "source": [
    "urls[1]"
   ]
  },
  {
   "cell_type": "markdown",
   "metadata": {},
   "source": [
    "### Process Data"
   ]
  },
  {
   "cell_type": "code",
   "execution_count": 73,
   "metadata": {},
   "outputs": [
    {
     "data": {
      "image/png": "[encoded data removed]",
      "text/plain": [
       "<matplotlib.figure.Figure at 0x119bf8cd0>"
      ]
     },
     "metadata": {},
     "output_type": "display_data"
    }
   ],
   "source": [
    "import collections\n",
    "from nltk import word_tokenize\n",
    "from nltk.corpus import stopwords\n",
    "from nltk.stem import PorterStemmer\n",
    "from sklearn.cluster import KMeans\n",
    "from sklearn.feature_extraction.text import TfidfVectorizer\n",
    "from pprint import pprint\n",
    "import seaborn as sns\n",
    "\n",
    "def word_tokenizer(text):\n",
    "        #tokenizes and stems the text\n",
    "        tokens = word_tokenize(text)\n",
    "        stemmer = PorterStemmer()\n",
    "        tokens = [stemmer.stem(t) for t in tokens if t not in stopwords.words('english')]\n",
    "        return tokens\n",
    "\n",
    "\n",
    "def cluster_items(items, nb_of_clusters=5,mds=False):\n",
    "        tfidf_vectorizer = TfidfVectorizer(tokenizer=word_tokenizer,\n",
    "                                        stop_words=stopwords.words('english'),\n",
    "                                        lowercase=True)\n",
    "        #builds a tf-idf matrix for the sentences\n",
    "        tfidf_matrix = tfidf_vectorizer.fit_transform(items)\n",
    "        \n",
    "        # Show matrix\n",
    "        pairwise_similarity = tfidf_matrix * tfidf_matrix.T\n",
    "        ax = sns.heatmap(pairwise_similarity.A)\n",
    "        ax.plot()\n",
    "        \n",
    "        # Clustering\n",
    "        kmeans = KMeans(n_clusters=nb_of_clusters)\n",
    "        kmeans.fit(tfidf_matrix)\n",
    "        clusters = collections.defaultdict(list)\n",
    "        for i, label in enumerate(kmeans.labels_):\n",
    "                clusters[label].append(i)\n",
    "        if mds:\n",
    "            return [pairwise_similarity,dict(clusters)]\n",
    "        else:\n",
    "            return dict(clusters)\n",
    "\n",
    "\n",
    "#items = [\"Nature is beautiful\",\"I like green apples\", \"We should protect the trees\",\"Fruit trees provide fruits\",\"Green apples are tasty\"]\n",
    "\n",
    "nclusters= 3\n",
    "parwise_similarity, clusters = cluster_items(items, nclusters,True)"
   ]
  },
  {
   "cell_type": "code",
   "execution_count": 105,
   "metadata": {},
   "outputs": [
    {
     "data": {
      "text/plain": [
       "u'https://www.swissinfo.ch/eng/politics/portrait_two-women-for-government--who-are-switzerland-s-new-ministers-/44596456'"
      ]
     },
     "execution_count": 105,
     "metadata": {},
     "output_type": "execute_result"
    }
   ],
   "source": [
    "index = 0\n",
    "article = urls[index]\n",
    "article"
   ]
  },
  {
   "cell_type": "code",
   "execution_count": 106,
   "metadata": {},
   "outputs": [
    {
     "data": {
      "text/plain": [
       "u'https://www.swissinfo.ch/eng/politics/cabinet-elections_viola-amherd-elected-to-the-swiss-federal-council/44594062'"
      ]
     },
     "execution_count": 106,
     "metadata": {},
     "output_type": "execute_result"
    }
   ],
   "source": [
    "import numpy as np\n",
    "distances = parwise_similarity.todense()[0].tolist()[index]\n",
    "closest_match = heapq.nlargest(2, distances)[1]\n",
    "urls[distances.index(closest_match)]"
   ]
  },
  {
   "cell_type": "markdown",
   "metadata": {},
   "source": [
    "## Output Clusters for Frontpage"
   ]
  },
  {
   "cell_type": "code",
   "execution_count": 72,
   "metadata": {},
   "outputs": [
    {
     "name": "stdout",
     "output_type": "stream",
     "text": [
      "cluster  0 :\n",
      "\turl  politics :  portrait_two-women-for-government--who-are-switzerland-s-new-ministers-\n",
      "\turl  politics :  cabinet-elections_viola-amherd-elected-to-the-swiss-federal-council\n",
      "\turl  society :  climate-change_torrid-time-predicted-for-switzerland-by-2060\n",
      "\turl  business :  banking-in-britain_regulator-warns-banks-over-brexit-moves-out-of-city\n",
      "\turl  politics :  federal-council-elections_what-s-the-essence-of-modern-leadership-\n",
      "\turl  society :  opinion_racism-in-switzerland---an-african-american-expat-s-perspective\n",
      "\turl  business :  withholding-tax_switzerland-likes-to-tax-differently-from-europe\n",
      "\turl  multimedia :  crime-in-3d_solving-crimes-with-the-help-of-virtual-reality-\n",
      "\turl  society :  -weareswissabroad_-our-traditions-keep-us-united-and-define-us-\n",
      "\turl  sci-tech :  cop24_climate-talks-open-amid-post-paris-polemics\n",
      "\turl  eng :  week-in-numbers_-swiss-law-first---maudet-opponents-and-breweries\n",
      "\turl  eng :  compliance_how-do-traders-ensure-due-diligence-in-high-risk-countries-\n",
      "\turl  multimedia :  fahr-convent_a-day-in-the-life-of-a-swiss-nun\n",
      "\turl  politics :  diplomacy-in-action_meet-the-swiss-woman-charged-with-bringing-peace-to-myanmar\n",
      "\turl  society :  smoking-and-alarms_fire-at-asylum-seeker-housing-calls-safety-into-question-\n",
      "\turl  society :  education-debate_how-much-tech-should-be-in-swiss-classrooms-\n",
      "\turl  business :  implant-files_swiss-implant-makers-come-under-the-microscope\n",
      "\turl  multimedia :  seven-wonders-of-switzerland_a-swiss-city-made-for-its-watchmakers\n",
      "\turl  business :  swiss-workforce_more-working-hours-for-women--easier-said-than-done\n",
      "\turl  politics :  geneva-talks_swiss-and-russian-foreign-ministers-to-meet-amid-spying-controversy\n",
      "\turl  culture :  harald-naegeli_let-us-spray--swiss-artist-given-permission-to-graffiti-church\n",
      "\turl  politics :  -federal-city-_why-is-bern-the-capital-of-switzerland-\n",
      "\turl  society :  female-friendly-guest-house_-we-want-to-give-women-a-home--\n",
      "\turl  multimedia :  space-mission_swiss-electronics-to-take-mars--pulse\n",
      "\turl  culture :  crime-and-restitution_swiss-make-slow-progress-returning-nazi-looted-art\n",
      "\turl  directdemocracy :  social-detectives_do-the-swiss-have-a-weakness-for-surveillance-\n",
      "\turl  society :  biosimilars---biologics_medicines--is-switzerland-too-rich-to-save-money-\n",
      "\turl  politics :  vote-november-25--2018_hotly-debated--swiss-law-first--initiative-awaits-public-verdict\n",
      "\turl  directdemocracy :  swiss-abroad_swiss-expats-clearly-reject--swiss-law-first--initiative\n",
      "\turl  multimedia :  karlheinz-weinberger_rebel-chic--a-swiss-view-of-a-post-war-generation\n",
      "\turl  politics :  november-25-vote_are-cows-with-horns-worth-a-bonus-for-the-swiss-\n",
      "\turl  politics :  vote-november-25--2018_voters-to-decide-the-fate-of--social-welfare-detectives--\n",
      "\turl  multimedia :  buendner-kunstmuseum-_gletscher--gefrorene-zeit---english-version-to-translate\n",
      "\turl  eng :  week-in-numbers_household-income--ancient-treasures-and-airbnb\n",
      "\turl  society :  istanbul-convention_-invest-money--to-stop-violence-against-women\n",
      "\turl  culture :  volumes-zurich_the-art-of-publishing-art-books--independently\n",
      "\turl  multimedia :  career-choice_how-young-swiss-choose-their-profession\n",
      "\turl  politics :  historic-vote-weekend_champions-league-finals-for-modern-direct-democracy\n",
      "\turl  politics :  offbeat-democracy_bizarre-or-idealistic--swiss-initiatives-come-in-all-forms\n",
      "\turl  society :  alain-berset_swiss-president-chosen-as--sign-of-the-year--by-deaf-society\n",
      "\turl  multimedia :  seven-wonders-of-switzerland_switzerland--home-to-one-of-europe-s-oldest-monasteries\n",
      "\turl  society :  urban-life_which-swiss-city-is-best-\n",
      "cluster  1 :\n",
      "\turl  politics :  portrait_two-women-for-government--who-are-switzerland-s-new-ministers-\n",
      "\turl  politics :  cabinet-elections_viola-amherd-elected-to-the-swiss-federal-council\n",
      "\turl  society :  climate-change_torrid-time-predicted-for-switzerland-by-2060\n",
      "\turl  business :  banking-in-britain_regulator-warns-banks-over-brexit-moves-out-of-city\n",
      "\turl  politics :  federal-council-elections_what-s-the-essence-of-modern-leadership-\n",
      "\turl  society :  opinion_racism-in-switzerland---an-african-american-expat-s-perspective\n",
      "\turl  business :  withholding-tax_switzerland-likes-to-tax-differently-from-europe\n",
      "\turl  multimedia :  crime-in-3d_solving-crimes-with-the-help-of-virtual-reality-\n",
      "\turl  society :  -weareswissabroad_-our-traditions-keep-us-united-and-define-us-\n",
      "\turl  sci-tech :  cop24_climate-talks-open-amid-post-paris-polemics\n",
      "\turl  eng :  week-in-numbers_-swiss-law-first---maudet-opponents-and-breweries\n",
      "\turl  eng :  compliance_how-do-traders-ensure-due-diligence-in-high-risk-countries-\n",
      "\turl  multimedia :  fahr-convent_a-day-in-the-life-of-a-swiss-nun\n",
      "\turl  politics :  diplomacy-in-action_meet-the-swiss-woman-charged-with-bringing-peace-to-myanmar\n",
      "\turl  society :  smoking-and-alarms_fire-at-asylum-seeker-housing-calls-safety-into-question-\n",
      "\turl  society :  education-debate_how-much-tech-should-be-in-swiss-classrooms-\n",
      "\turl  business :  implant-files_swiss-implant-makers-come-under-the-microscope\n",
      "\turl  multimedia :  seven-wonders-of-switzerland_a-swiss-city-made-for-its-watchmakers\n",
      "\turl  business :  swiss-workforce_more-working-hours-for-women--easier-said-than-done\n",
      "\turl  politics :  geneva-talks_swiss-and-russian-foreign-ministers-to-meet-amid-spying-controversy\n",
      "\turl  culture :  harald-naegeli_let-us-spray--swiss-artist-given-permission-to-graffiti-church\n",
      "\turl  politics :  -federal-city-_why-is-bern-the-capital-of-switzerland-\n",
      "\turl  society :  female-friendly-guest-house_-we-want-to-give-women-a-home--\n",
      "\turl  multimedia :  space-mission_swiss-electronics-to-take-mars--pulse\n",
      "\turl  culture :  crime-and-restitution_swiss-make-slow-progress-returning-nazi-looted-art\n",
      "\turl  directdemocracy :  social-detectives_do-the-swiss-have-a-weakness-for-surveillance-\n",
      "\turl  society :  biosimilars---biologics_medicines--is-switzerland-too-rich-to-save-money-\n",
      "\turl  politics :  vote-november-25--2018_hotly-debated--swiss-law-first--initiative-awaits-public-verdict\n",
      "\turl  directdemocracy :  swiss-abroad_swiss-expats-clearly-reject--swiss-law-first--initiative\n",
      "\turl  multimedia :  karlheinz-weinberger_rebel-chic--a-swiss-view-of-a-post-war-generation\n",
      "\turl  politics :  november-25-vote_are-cows-with-horns-worth-a-bonus-for-the-swiss-\n",
      "\turl  politics :  vote-november-25--2018_voters-to-decide-the-fate-of--social-welfare-detectives--\n",
      "cluster  2 :\n",
      "\turl  politics :  portrait_two-women-for-government--who-are-switzerland-s-new-ministers-\n",
      "\turl  politics :  cabinet-elections_viola-amherd-elected-to-the-swiss-federal-council\n",
      "\turl  society :  climate-change_torrid-time-predicted-for-switzerland-by-2060\n",
      "\turl  business :  banking-in-britain_regulator-warns-banks-over-brexit-moves-out-of-city\n",
      "\turl  politics :  federal-council-elections_what-s-the-essence-of-modern-leadership-\n",
      "\turl  society :  opinion_racism-in-switzerland---an-african-american-expat-s-perspective\n",
      "\turl  business :  withholding-tax_switzerland-likes-to-tax-differently-from-europe\n",
      "\turl  multimedia :  crime-in-3d_solving-crimes-with-the-help-of-virtual-reality-\n",
      "\turl  society :  -weareswissabroad_-our-traditions-keep-us-united-and-define-us-\n",
      "\turl  sci-tech :  cop24_climate-talks-open-amid-post-paris-polemics\n",
      "\turl  eng :  week-in-numbers_-swiss-law-first---maudet-opponents-and-breweries\n",
      "\turl  eng :  compliance_how-do-traders-ensure-due-diligence-in-high-risk-countries-\n",
      "\turl  multimedia :  fahr-convent_a-day-in-the-life-of-a-swiss-nun\n",
      "\turl  politics :  diplomacy-in-action_meet-the-swiss-woman-charged-with-bringing-peace-to-myanmar\n",
      "\turl  society :  smoking-and-alarms_fire-at-asylum-seeker-housing-calls-safety-into-question-\n",
      "\turl  society :  education-debate_how-much-tech-should-be-in-swiss-classrooms-\n",
      "\turl  business :  implant-files_swiss-implant-makers-come-under-the-microscope\n",
      "\turl  multimedia :  seven-wonders-of-switzerland_a-swiss-city-made-for-its-watchmakers\n",
      "\turl  business :  swiss-workforce_more-working-hours-for-women--easier-said-than-done\n",
      "\turl  politics :  geneva-talks_swiss-and-russian-foreign-ministers-to-meet-amid-spying-controversy\n",
      "\turl  culture :  harald-naegeli_let-us-spray--swiss-artist-given-permission-to-graffiti-church\n",
      "\turl  politics :  -federal-city-_why-is-bern-the-capital-of-switzerland-\n"
     ]
    }
   ],
   "source": [
    "for cluster in range(nclusters):\n",
    "        print \"cluster \",cluster,\":\"\n",
    "        for i,item in enumerate(clusters[cluster]):\n",
    "                print \"\\turl \",urls[i].split(\"/\")[-3],\": \",urls[i].split(\"/\")[-2]"
   ]
  },
  {
   "cell_type": "markdown",
   "metadata": {},
   "source": [
    "## Helping Redactors to tag their content faster with IPTC tags"
   ]
  },
  {
   "cell_type": "markdown",
   "metadata": {},
   "source": [
    "- https://fasttext.cc/docs/en/cheatsheet.html"
   ]
  },
  {
   "cell_type": "code",
   "execution_count": null,
   "metadata": {},
   "outputs": [],
   "source": []
  }
 ],
 "metadata": {
  "kernelspec": {
   "display_name": "Python 3",
   "language": "python",
   "name": "python3"
  },
  "language_info": {
   "codemirror_mode": {
    "name": "ipython",
    "version": 2
   },
   "file_extension": ".py",
   "mimetype": "text/x-python",
   "name": "python",
   "nbconvert_exporter": "python",
   "pygments_lexer": "ipython2",
   "version": "2.7.15"
  }
 },
 "nbformat": 4,
 "nbformat_minor": 2
}
